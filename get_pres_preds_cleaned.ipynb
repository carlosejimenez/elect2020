{
 "cells": [
  {
   "cell_type": "code",
   "execution_count": 1,
   "metadata": {},
   "outputs": [],
   "source": [
    "import pandas as pd\n",
    "import numpy as np\n",
    "from utils import get_names2abbrs_dict\n",
    "from datetime import datetime"
   ]
  },
  {
   "cell_type": "code",
   "execution_count": 2,
   "metadata": {},
   "outputs": [],
   "source": [
    "pres = pd.read_csv('election-forecasts-2020/presidential_state_toplines_2020.csv')"
   ]
  },
  {
   "cell_type": "code",
   "execution_count": 3,
   "metadata": {},
   "outputs": [],
   "source": [
    "def clean_pres(in_df):\n",
    "    df = in_df.copy()\n",
    "    states2abbrs = get_names2abbrs_dict()\n",
    "    df = df.rename(columns={\n",
    "        'modeldate': 'date',\n",
    "        'voteshare_inc': 'rep_vote_share',\n",
    "        'voteshare_chal': 'dem_vote_share'})\n",
    "    df['state_po'] = list(map(states2abbrs.get, df['state']))\n",
    "    keep_columns = ['date', 'state', 'state_po', 'tipping', \n",
    "                    'dem_vote_share', 'rep_vote_share']\n",
    "    df = df[keep_columns]\n",
    "    df['date'] = [f'{x[2]}-{x[0].zfill(2)}-{x[1].zfill(2)}'for x \n",
    "                  in list(map(lambda x: x.split('/'), df['date']))]\n",
    "    df['rep_vote_share'] /= 100\n",
    "    df['dem_vote_share'] /= 100\n",
    "    df[['normalized_dem_vote_share', 'normalized_rep_vote_share']] = df[['dem_vote_share', 'rep_vote_share']] / df[['dem_vote_share', 'rep_vote_share']].sum(axis=1).values.reshape(-1, 1)\n",
    "#     df[['normalized_dem_vote_share', 'normalized_rep_vote_share']] = df[['dem_vote_share', 'rep_vote_share']].sum(axis=1)\n",
    "    return df.reset_index(drop=True)"
   ]
  },
  {
   "cell_type": "code",
   "execution_count": 4,
   "metadata": {},
   "outputs": [],
   "source": [
    "pres_predictions = clean_pres(pres)"
   ]
  },
  {
   "cell_type": "code",
   "execution_count": 5,
   "metadata": {},
   "outputs": [],
   "source": [
    "pres_predictions.to_csv('2020-pres-preds-cleaned.csv', index=False)"
   ]
  },
  {
   "cell_type": "code",
   "execution_count": null,
   "metadata": {},
   "outputs": [],
   "source": []
  }
 ],
 "metadata": {
  "kernelspec": {
   "display_name": "Python 3",
   "language": "python",
   "name": "python3"
  },
  "language_info": {
   "codemirror_mode": {
    "name": "ipython",
    "version": 3
   },
   "file_extension": ".py",
   "mimetype": "text/x-python",
   "name": "python",
   "nbconvert_exporter": "python",
   "pygments_lexer": "ipython3",
   "version": "3.8.5"
  }
 },
 "nbformat": 4,
 "nbformat_minor": 4
}
