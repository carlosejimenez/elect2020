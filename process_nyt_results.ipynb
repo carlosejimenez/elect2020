{
 "cells": [
  {
   "cell_type": "code",
   "execution_count": 17,
   "metadata": {},
   "outputs": [],
   "source": [
    "import pandas as pd\n",
    "import numpy as np\n",
    "import re\n",
    "from us import states\n",
    "from matplotlib import pyplot as plt\n",
    "from utils import get_names2abbrs_dict"
   ]
  },
  {
   "cell_type": "code",
   "execution_count": 9,
   "metadata": {},
   "outputs": [],
   "source": [
    "def lineplot(x_data, y_data, x_label=\"\", y_label=\"\", title=\"\"):\n",
    "    # Create the plot object\n",
    "    _, ax = plt.subplots()\n",
    "\n",
    "    # Plot the best fit line, set the linewidth (lw), color and\n",
    "    # transparency (alpha) of the line\n",
    "    ax.plot(x_data, y_data, lw = 2, color = '#539caf', alpha = 1)\n",
    "\n",
    "    # Label the axes and provide a title\n",
    "    ax.set_title(title)\n",
    "    ax.set_xlabel(x_label)\n",
    "    ax.set_ylabel(y_label)"
   ]
  },
  {
   "cell_type": "code",
   "execution_count": 15,
   "metadata": {},
   "outputs": [],
   "source": [
    "data = pd.read_csv('election_data/all-state-changes.csv')"
   ]
  },
  {
   "cell_type": "code",
   "execution_count": 34,
   "metadata": {},
   "outputs": [],
   "source": [
    "def convert_state(line):\n",
    "    match = re.search(r'^([\\WA-Za-z]+)\\ \\(EV\\:\\ [\\d]+\\)$', line)\n",
    "    if match:\n",
    "        return get_names2abbrs_dict()[match.groups(1)[0]]\n",
    "    else:\n",
    "        return line\n",
    "    \n",
    "def simplify(in_df):\n",
    "    df = in_df.copy()\n",
    "    df['state_po'] = list(map(convert_state, df['state']))\n",
    "    return df"
   ]
  },
  {
   "cell_type": "code",
   "execution_count": 59,
   "metadata": {},
   "outputs": [],
   "source": [
    "df = simplify(data)"
   ]
  },
  {
   "cell_type": "code",
   "execution_count": 70,
   "metadata": {},
   "outputs": [],
   "source": [
    "def get_final_vote_share(in_df):\n",
    "    df = in_df.copy()\n",
    "    states = set(df['state_po'])\n",
    "    state_dict = dict()\n",
    "    for state in states:\n",
    "        final = df[df['state_po'] == state].sort_values(by='timestamp').iloc[-1]\n",
    "        assert final['leading_candidate_name'] in ['Trump', 'Biden']\n",
    "        assert final['trailing_candidate_name'] in ['Trump', 'Biden']\n",
    "        if final['leading_candidate_name'] == 'Trump':\n",
    "            r_votes = final['leading_candidate_votes'].item()\n",
    "            d_votes = final['trailing_candidate_votes'].item()\n",
    "            assert r_votes > d_votes\n",
    "        else:\n",
    "            d_votes = final['leading_candidate_votes'].item()\n",
    "            r_votes = final['trailing_candidate_votes'].item()\n",
    "            assert d_votes > r_votes\n",
    "        total_votes = r_votes + d_votes\n",
    "        state_dict[state] = {\n",
    "            'r_vote_share': r_votes, 'd_vote_share': d_votes,\n",
    "            'total_votes': total_votes, 'd_prob': d_votes/total_votes\n",
    "        }\n",
    "    return state_dict"
   ]
  },
  {
   "cell_type": "code",
   "execution_count": 77,
   "metadata": {},
   "outputs": [],
   "source": [
    "final_results = pd.DataFrame.from_dict(get_final_vote_share(df)).T.reset_index().rename(columns={'index': 'state_po'})"
   ]
  },
  {
   "cell_type": "code",
   "execution_count": 78,
   "metadata": {},
   "outputs": [],
   "source": [
    "final_results.to_csv('election_data/final_results_by_state.csv', index=False)"
   ]
  },
  {
   "cell_type": "code",
   "execution_count": null,
   "metadata": {},
   "outputs": [],
   "source": []
  }
 ],
 "metadata": {
  "kernelspec": {
   "display_name": "Python 3",
   "language": "python",
   "name": "python3"
  },
  "language_info": {
   "codemirror_mode": {
    "name": "ipython",
    "version": 3
   },
   "file_extension": ".py",
   "mimetype": "text/x-python",
   "name": "python",
   "nbconvert_exporter": "python",
   "pygments_lexer": "ipython3",
   "version": "3.6.12"
  }
 },
 "nbformat": 4,
 "nbformat_minor": 4
}
