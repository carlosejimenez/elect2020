{
 "cells": [
  {
   "cell_type": "code",
   "execution_count": 25,
   "metadata": {},
   "outputs": [],
   "source": [
    "import pandas as pd\n",
    "import numpy as np\n",
    "import re\n",
    "from us import states\n",
    "from matplotlib import pyplot as plt\n",
    "from utils import get_names2abbrs_dict"
   ]
  },
  {
   "cell_type": "code",
   "execution_count": 26,
   "metadata": {},
   "outputs": [],
   "source": [
    "def lineplot(x_data, y_data, x_label=\"\", y_label=\"\", title=\"\"):\n",
    "    # Create the plot object\n",
    "    _, ax = plt.subplots()\n",
    "\n",
    "    # Plot the best fit line, set the linewidth (lw), color and\n",
    "    # transparency (alpha) of the line\n",
    "    ax.plot(x_data, y_data, lw = 2, color = '#539caf', alpha = 1)\n",
    "\n",
    "    # Label the axes and provide a title\n",
    "    ax.set_title(title)\n",
    "    ax.set_xlabel(x_label)\n",
    "    ax.set_ylabel(y_label)"
   ]
  },
  {
   "cell_type": "code",
   "execution_count": 27,
   "metadata": {},
   "outputs": [],
   "source": [
    "data = pd.read_csv('election_data/all-state-changes.csv')"
   ]
  },
  {
   "cell_type": "code",
   "execution_count": 28,
   "metadata": {},
   "outputs": [],
   "source": [
    "def convert_state(line):\n",
    "    match = re.search(r'^([\\WA-Za-z]+)\\ \\(EV\\:\\ [\\d]+\\)$', line)\n",
    "    if match:\n",
    "        return get_names2abbrs_dict()[match.groups(1)[0]]\n",
    "    else:\n",
    "        return line\n",
    "    \n",
    "def simplify(in_df):\n",
    "    df = in_df.copy()\n",
    "    df['state_po'] = list(map(convert_state, df['state']))\n",
    "    return df"
   ]
  },
  {
   "cell_type": "code",
   "execution_count": 29,
   "metadata": {},
   "outputs": [],
   "source": [
    "df = simplify(data)"
   ]
  },
  {
   "cell_type": "code",
   "execution_count": 30,
   "metadata": {},
   "outputs": [],
   "source": [
    "def get_final_vote_share(in_df, raw):\n",
    "    df = in_df.copy()\n",
    "    all_states = set(df['state_po'])\n",
    "    state_dict = dict()\n",
    "    for state in all_states:\n",
    "        final = df[df['state_po'] == state].sort_values(by='timestamp').iloc[-1]\n",
    "        assert final['leading_candidate_name'] in ['Trump', 'Biden']\n",
    "        assert final['trailing_candidate_name'] in ['Trump', 'Biden']\n",
    "        if final['leading_candidate_name'] == 'Trump':\n",
    "            r_votes = final['leading_candidate_votes'].item()\n",
    "            d_votes = final['trailing_candidate_votes'].item()\n",
    "            assert r_votes > d_votes\n",
    "        else:\n",
    "            d_votes = final['leading_candidate_votes'].item()\n",
    "            r_votes = final['trailing_candidate_votes'].item()\n",
    "            assert d_votes > r_votes\n",
    "        if raw:\n",
    "            total_votes = final['total_votes_count']\n",
    "        else:\n",
    "            total_votes = r_votes + d_votes\n",
    "        state_dict[state] = {\n",
    "            'rep_vote_share': r_votes/total_votes, 'dem_vote_share': d_votes/total_votes,\n",
    "            'totalvotes': total_votes, 'state': getattr(states, state).name,\n",
    "        }\n",
    "    return state_dict"
   ]
  },
  {
   "cell_type": "code",
   "execution_count": 34,
   "metadata": {},
   "outputs": [],
   "source": [
    "final_results = pd.DataFrame.from_dict(get_final_vote_share(df, False)).T.reset_index().rename(columns={'index': 'state_po'})"
   ]
  },
  {
   "cell_type": "code",
   "execution_count": 35,
   "metadata": {},
   "outputs": [],
   "source": [
    "final_results.to_csv('election_data/final_results_by_state.csv', index=False)"
   ]
  },
  {
   "cell_type": "code",
   "execution_count": 36,
   "metadata": {},
   "outputs": [],
   "source": [
    "final_results_raw = pd.DataFrame.from_dict(get_final_vote_share(df, True)).T.reset_index().rename(columns={'index': 'state_po'})"
   ]
  },
  {
   "cell_type": "code",
   "execution_count": 37,
   "metadata": {},
   "outputs": [],
   "source": [
    "final_results_raw.to_csv('election_data/final_results_raw_by_state.csv', index=False)"
   ]
  },
  {
   "cell_type": "code",
   "execution_count": null,
   "metadata": {},
   "outputs": [],
   "source": []
  }
 ],
 "metadata": {
  "kernelspec": {
   "display_name": "Python 3",
   "language": "python",
   "name": "python3"
  },
  "language_info": {
   "codemirror_mode": {
    "name": "ipython",
    "version": 3
   },
   "file_extension": ".py",
   "mimetype": "text/x-python",
   "name": "python",
   "nbconvert_exporter": "python",
   "pygments_lexer": "ipython3",
   "version": "3.8.5"
  }
 },
 "nbformat": 4,
 "nbformat_minor": 4
}
