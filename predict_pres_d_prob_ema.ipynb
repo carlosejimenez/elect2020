{
 "cells": [
  {
   "cell_type": "code",
   "execution_count": 1,
   "metadata": {},
   "outputs": [],
   "source": [
    "import pandas as pd\n",
    "import numpy as np\n",
    "from math import exp\n",
    "from utils import get_names2abbrs_dict\n",
    "from utils import get_predictions_df"
   ]
  },
  {
   "cell_type": "code",
   "execution_count": 20,
   "metadata": {},
   "outputs": [],
   "source": [
    "raw = True\n",
    "start_date = '2020-05-01'\n",
    "end_date = '2020-10-31'"
   ]
  },
  {
   "cell_type": "code",
   "execution_count": 21,
   "metadata": {},
   "outputs": [],
   "source": [
    "state_po_votes = pd.read_csv('electoral_votes_2020.csv')"
   ]
  },
  {
   "cell_type": "code",
   "execution_count": 22,
   "metadata": {},
   "outputs": [],
   "source": [
    "d_probs = pd.read_csv(f'poll_data/all_pres_polls_d_probs{\"_raw\" if raw else \"\"}.csv')"
   ]
  },
  {
   "cell_type": "code",
   "execution_count": 23,
   "metadata": {},
   "outputs": [
    {
     "name": "stdout",
     "output_type": "stream",
     "text": [
      "wrote to predictions/presidential_raw_preds_0-4_logistic.csv\n"
     ]
    }
   ],
   "source": [
    "kwargs = {'start_date': start_date, 'end_date': end_date, 'alpha': 0.4, 'logistic': True}\n",
    "df = get_predictions_df(d_probs, **kwargs)\n",
    "filename = f'predictions/presidential_{\"raw_\" if raw else \"\"}preds_{\"logistic\" if kwargs[\"logistic\"] else \"lambda\"}_{\"-\".join(str(kwargs[\"alpha\"]).split(\".\"))}.csv'\n",
    "df.to_csv(filename, index=False)\n",
    "print(f'wrote to {filename}')"
   ]
  },
  {
   "cell_type": "code",
   "execution_count": 24,
   "metadata": {},
   "outputs": [
    {
     "name": "stdout",
     "output_type": "stream",
     "text": [
      "wrote to predictions/presidential_raw_preds_0-2_lambda.csv\n"
     ]
    }
   ],
   "source": [
    "kwargs = {'start_date': start_date, 'end_date': end_date, 'alpha': 0.2, 'logistic': False}\n",
    "df = get_predictions_df(d_probs, **kwargs)\n",
    "filename = f'predictions/presidential_{\"raw_\" if raw else \"\"}preds_{\"logistic\" if kwargs[\"logistic\"] else \"lambda\"}_{\"-\".join(str(kwargs[\"alpha\"]).split(\".\"))}.csv'\n",
    "df.to_csv(filename, index=False)\n",
    "print(f'wrote to {filename}')"
   ]
  },
  {
   "cell_type": "code",
   "execution_count": 26,
   "metadata": {},
   "outputs": [
    {
     "name": "stdout",
     "output_type": "stream",
     "text": [
      "wrote to predictions/presidential_raw_preds_lambda_1.csv\n"
     ]
    }
   ],
   "source": [
    "kwargs = {'start_date': start_date, 'end_date': end_date, 'alpha': 1, 'logistic': False}\n",
    "df = get_predictions_df(d_probs, **kwargs)\n",
    "filename = f'predictions/presidential_{\"raw_\" if raw else \"\"}preds_{\"logistic\" if kwargs[\"logistic\"] else \"lambda\"}_{\"-\".join(str(kwargs[\"alpha\"]).split(\".\"))}.csv'\n",
    "df.to_csv(filename, index=False)\n",
    "print(f'wrote to {filename}')"
   ]
  },
  {
   "cell_type": "code",
   "execution_count": null,
   "metadata": {},
   "outputs": [],
   "source": []
  }
 ],
 "metadata": {
  "kernelspec": {
   "display_name": "Python 3",
   "language": "python",
   "name": "python3"
  },
  "language_info": {
   "codemirror_mode": {
    "name": "ipython",
    "version": 3
   },
   "file_extension": ".py",
   "mimetype": "text/x-python",
   "name": "python",
   "nbconvert_exporter": "python",
   "pygments_lexer": "ipython3",
   "version": "3.8.5"
  }
 },
 "nbformat": 4,
 "nbformat_minor": 4
}
