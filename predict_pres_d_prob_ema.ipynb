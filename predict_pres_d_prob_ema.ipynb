{
 "cells": [
  {
   "cell_type": "code",
   "execution_count": 2,
   "metadata": {},
   "outputs": [],
   "source": [
    "import pandas as pd\n",
    "import numpy as np\n",
    "from math import exp\n",
    "from utils import get_names2abbrs_dict"
   ]
  },
  {
   "cell_type": "code",
   "execution_count": 3,
   "metadata": {},
   "outputs": [],
   "source": [
    "state_po_votes = pd.read_csv('electoral_votes_2020.csv')"
   ]
  },
  {
   "cell_type": "code",
   "execution_count": 4,
   "metadata": {},
   "outputs": [],
   "source": [
    "d_probs = pd.read_csv('poll_data/all_pres_polls_d_probs.csv')"
   ]
  },
  {
   "cell_type": "code",
   "execution_count": 5,
   "metadata": {},
   "outputs": [
    {
     "data": {
      "text/html": [
       "<div>\n",
       "<style scoped>\n",
       "    .dataframe tbody tr th:only-of-type {\n",
       "        vertical-align: middle;\n",
       "    }\n",
       "\n",
       "    .dataframe tbody tr th {\n",
       "        vertical-align: top;\n",
       "    }\n",
       "\n",
       "    .dataframe thead th {\n",
       "        text-align: right;\n",
       "    }\n",
       "</style>\n",
       "<table border=\"1\" class=\"dataframe\">\n",
       "  <thead>\n",
       "    <tr style=\"text-align: right;\">\n",
       "      <th></th>\n",
       "      <th>date</th>\n",
       "      <th>poll_id</th>\n",
       "      <th>question_id</th>\n",
       "      <th>state</th>\n",
       "      <th>state_po</th>\n",
       "      <th>sample_size</th>\n",
       "      <th>population</th>\n",
       "      <th>d_prob</th>\n",
       "    </tr>\n",
       "  </thead>\n",
       "  <tbody>\n",
       "    <tr>\n",
       "      <th>0</th>\n",
       "      <td>2018-11-28</td>\n",
       "      <td>57026</td>\n",
       "      <td>92080</td>\n",
       "      <td>Ohio</td>\n",
       "      <td>OH</td>\n",
       "      <td>648.0</td>\n",
       "      <td>v</td>\n",
       "      <td>0.521739</td>\n",
       "    </tr>\n",
       "    <tr>\n",
       "      <th>1</th>\n",
       "      <td>2018-12-17</td>\n",
       "      <td>57170</td>\n",
       "      <td>92351</td>\n",
       "      <td>NaN</td>\n",
       "      <td>NAT</td>\n",
       "      <td>1001.0</td>\n",
       "      <td>rv</td>\n",
       "      <td>0.538462</td>\n",
       "    </tr>\n",
       "    <tr>\n",
       "      <th>2</th>\n",
       "      <td>2019-01-07</td>\n",
       "      <td>57275</td>\n",
       "      <td>92597</td>\n",
       "      <td>North Carolina</td>\n",
       "      <td>NC</td>\n",
       "      <td>750.0</td>\n",
       "      <td>rv</td>\n",
       "      <td>0.526882</td>\n",
       "    </tr>\n",
       "    <tr>\n",
       "      <th>3</th>\n",
       "      <td>2019-01-21</td>\n",
       "      <td>57365</td>\n",
       "      <td>92773</td>\n",
       "      <td>NaN</td>\n",
       "      <td>NAT</td>\n",
       "      <td>760.0</td>\n",
       "      <td>rv</td>\n",
       "      <td>0.563830</td>\n",
       "    </tr>\n",
       "    <tr>\n",
       "      <th>4</th>\n",
       "      <td>2019-01-26</td>\n",
       "      <td>57427</td>\n",
       "      <td>92926</td>\n",
       "      <td>Michigan</td>\n",
       "      <td>MI</td>\n",
       "      <td>600.0</td>\n",
       "      <td>lv</td>\n",
       "      <td>0.569444</td>\n",
       "    </tr>\n",
       "    <tr>\n",
       "      <th>...</th>\n",
       "      <td>...</td>\n",
       "      <td>...</td>\n",
       "      <td>...</td>\n",
       "      <td>...</td>\n",
       "      <td>...</td>\n",
       "      <td>...</td>\n",
       "      <td>...</td>\n",
       "      <td>...</td>\n",
       "    </tr>\n",
       "    <tr>\n",
       "      <th>5385</th>\n",
       "      <td>2020-11-02</td>\n",
       "      <td>72717</td>\n",
       "      <td>136487</td>\n",
       "      <td>NaN</td>\n",
       "      <td>NAT</td>\n",
       "      <td>914.0</td>\n",
       "      <td>lv</td>\n",
       "      <td>0.536082</td>\n",
       "    </tr>\n",
       "    <tr>\n",
       "      <th>5386</th>\n",
       "      <td>2020-11-02</td>\n",
       "      <td>72717</td>\n",
       "      <td>136486</td>\n",
       "      <td>NaN</td>\n",
       "      <td>NAT</td>\n",
       "      <td>1146.0</td>\n",
       "      <td>rv</td>\n",
       "      <td>0.536082</td>\n",
       "    </tr>\n",
       "    <tr>\n",
       "      <th>5387</th>\n",
       "      <td>2020-11-02</td>\n",
       "      <td>72717</td>\n",
       "      <td>136485</td>\n",
       "      <td>NaN</td>\n",
       "      <td>NAT</td>\n",
       "      <td>1333.0</td>\n",
       "      <td>a</td>\n",
       "      <td>0.525773</td>\n",
       "    </tr>\n",
       "    <tr>\n",
       "      <th>5388</th>\n",
       "      <td>2020-11-02</td>\n",
       "      <td>72714</td>\n",
       "      <td>136475</td>\n",
       "      <td>NaN</td>\n",
       "      <td>NAT</td>\n",
       "      <td>1363.0</td>\n",
       "      <td>lv</td>\n",
       "      <td>0.552083</td>\n",
       "    </tr>\n",
       "    <tr>\n",
       "      <th>5389</th>\n",
       "      <td>2020-11-02</td>\n",
       "      <td>72621</td>\n",
       "      <td>136283</td>\n",
       "      <td>Iowa</td>\n",
       "      <td>IA</td>\n",
       "      <td>871.0</td>\n",
       "      <td>v</td>\n",
       "      <td>0.505155</td>\n",
       "    </tr>\n",
       "  </tbody>\n",
       "</table>\n",
       "<p>5390 rows × 8 columns</p>\n",
       "</div>"
      ],
      "text/plain": [
       "            date  poll_id  question_id           state state_po  sample_size  \\\n",
       "0     2018-11-28    57026        92080            Ohio       OH        648.0   \n",
       "1     2018-12-17    57170        92351             NaN      NAT       1001.0   \n",
       "2     2019-01-07    57275        92597  North Carolina       NC        750.0   \n",
       "3     2019-01-21    57365        92773             NaN      NAT        760.0   \n",
       "4     2019-01-26    57427        92926        Michigan       MI        600.0   \n",
       "...          ...      ...          ...             ...      ...          ...   \n",
       "5385  2020-11-02    72717       136487             NaN      NAT        914.0   \n",
       "5386  2020-11-02    72717       136486             NaN      NAT       1146.0   \n",
       "5387  2020-11-02    72717       136485             NaN      NAT       1333.0   \n",
       "5388  2020-11-02    72714       136475             NaN      NAT       1363.0   \n",
       "5389  2020-11-02    72621       136283            Iowa       IA        871.0   \n",
       "\n",
       "     population    d_prob  \n",
       "0             v  0.521739  \n",
       "1            rv  0.538462  \n",
       "2            rv  0.526882  \n",
       "3            rv  0.563830  \n",
       "4            lv  0.569444  \n",
       "...         ...       ...  \n",
       "5385         lv  0.536082  \n",
       "5386         rv  0.536082  \n",
       "5387          a  0.525773  \n",
       "5388         lv  0.552083  \n",
       "5389          v  0.505155  \n",
       "\n",
       "[5390 rows x 8 columns]"
      ]
     },
     "execution_count": 5,
     "metadata": {},
     "output_type": "execute_result"
    }
   ],
   "source": [
    "d_probs"
   ]
  },
  {
   "cell_type": "code",
   "execution_count": 6,
   "metadata": {},
   "outputs": [],
   "source": [
    "mask = ((d_probs['date'] >= '2020-05-01') & (d_probs['date'] <= '2020-10-31'))\n",
    "d_probs = d_probs[mask].sort_values(by='date').reset_index(drop=True)"
   ]
  },
  {
   "cell_type": "code",
   "execution_count": 7,
   "metadata": {},
   "outputs": [],
   "source": [
    "alpha = 0.4\n",
    "nat_alpha = 0.0  # Don't include national results at all\n",
    "standard_sample_size = 1000"
   ]
  },
  {
   "cell_type": "code",
   "execution_count": 8,
   "metadata": {},
   "outputs": [],
   "source": [
    "def logistic(x):\n",
    "    k = 0.001\n",
    "    x0 = 1000\n",
    "    e = exp(-k * (x - x0))\n",
    "    return 1/(1+e)"
   ]
  },
  {
   "cell_type": "code",
   "execution_count": 9,
   "metadata": {},
   "outputs": [],
   "source": [
    "def get_preds(d_probs, alpha, nat_alpha, weight_func):\n",
    "    all_states = {k: 0.5 for k in set(get_names2abbrs_dict().values())}  # prior = 0.5 for all states\n",
    "    for row in range(len(d_probs)):\n",
    "        state_po = d_probs.iloc[row]['state_po']\n",
    "        sample_size = d_probs.iloc[row]['sample_size'].item()\n",
    "        d_prob = d_probs.iloc[row]['d_prob'].item()\n",
    "        sample_weight = weight_func(sample_size)\n",
    "        if state_po == 'NAT':\n",
    "            weight = nat_alpha * sample_weight\n",
    "            for state_code in all_states.keys():\n",
    "                all_states[state_code] = (all_states[state_code] * (1 - weight)) + (d_prob * weight)\n",
    "        else:\n",
    "            weight = alpha * sample_weight\n",
    "            all_states[state_po] = (all_states[state_po] * (1 - weight)) + (d_prob * weight)\n",
    "    d_states = list()\n",
    "    r_states = list()\n",
    "    for state_po in all_states:\n",
    "    #     votes = state_po_votes[state_po_votes['state_po'] == state_po]['electoral_votes'].item()\n",
    "        if all_states[state_po] > 0.5:\n",
    "            d_states.append(state_po)\n",
    "        else:\n",
    "            r_states.append(state_po)\n",
    "    d_votes = state_po_votes[state_po_votes['state_po'].isin(d_states)]['electoral_votes'].sum()\n",
    "    r_votes = state_po_votes[state_po_votes['state_po'].isin(r_states)]['electoral_votes'].sum()\n",
    "    win_str = ''\n",
    "    win_states = None\n",
    "    if d_votes >= 270:\n",
    "        win_str = f'Biden wins with {d_votes} votes!'\n",
    "        win_states = d_states\n",
    "    elif r_votes >= 270:\n",
    "        win_str = f'Trump wins with {r_votes} votes!'\n",
    "        win_states = r_states\n",
    "    else:\n",
    "        win_str = f'It\\'s a tie! {d_votes} = {r_votes}'\n",
    "    print(win_str)\n",
    "    if win_states:\n",
    "        print(f'Won with states {sorted(win_states)}')\n",
    "    return sorted(all_states.items(), key=lambda kv: kv[1])"
   ]
  },
  {
   "cell_type": "code",
   "execution_count": 36,
   "metadata": {},
   "outputs": [
    {
     "name": "stdout",
     "output_type": "stream",
     "text": [
      "Biden wins with 356 votes!\n",
      "Won with states ['AZ', 'CA', 'CO', 'CT', 'DC', 'DE', 'FL', 'GA', 'HI', 'IA', 'IL', 'MA', 'MD', 'ME', 'MI', 'MN', 'NC', 'NH', 'NJ', 'NM', 'NV', 'NY', 'OR', 'PA', 'RI', 'VA', 'VT', 'WA', 'WI']\n",
      "wrote to predictions/presidential_preds_0-4_logistic.csv\n"
     ]
    }
   ],
   "source": [
    "alpha = 0.4\n",
    "weight_func = 'logistic'\n",
    "df = pd.DataFrame.from_dict(get_preds(d_probs, alpha, 0, eval(weight_func))).rename(columns={0: 'state_po', 1: 'd_prob'})\n",
    "filename = f'predictions/presidential_preds_{\"-\".join(str(alpha).split(\".\"))}_{weight_func.split(\" \", 1)[0]}.csv'\n",
    "df.to_csv(filename, index=False)\n",
    "print(f'wrote to {filename}')"
   ]
  },
  {
   "cell_type": "code",
   "execution_count": 37,
   "metadata": {},
   "outputs": [
    {
     "name": "stdout",
     "output_type": "stream",
     "text": [
      "Biden wins with 350 votes!\n",
      "Won with states ['AZ', 'CA', 'CO', 'CT', 'DC', 'DE', 'FL', 'GA', 'HI', 'IL', 'MA', 'MD', 'ME', 'MI', 'MN', 'NC', 'NH', 'NJ', 'NM', 'NV', 'NY', 'OR', 'PA', 'RI', 'VA', 'VT', 'WA', 'WI']\n",
      "wrote to predictions/presidential_preds_0-2_lambda.csv\n"
     ]
    }
   ],
   "source": [
    "alpha = 0.2\n",
    "weight_func = 'lambda x: 1'\n",
    "df = pd.DataFrame.from_dict(get_preds(d_probs, alpha, 0, eval(weight_func))).rename(columns={0: 'state_po', 1: 'd_prob'})\n",
    "filename = f'predictions/presidential_preds_{\"-\".join(str(alpha).split(\".\"))}_{weight_func.split(\" \", 1)[0]}.csv'\n",
    "df.to_csv(filename, index=False)\n",
    "print(f'wrote to {filename}')"
   ]
  },
  {
   "cell_type": "code",
   "execution_count": 38,
   "metadata": {},
   "outputs": [
    {
     "name": "stdout",
     "output_type": "stream",
     "text": [
      "Biden wins with 388 votes!\n",
      "Won with states ['AZ', 'CA', 'CO', 'CT', 'DC', 'DE', 'FL', 'GA', 'HI', 'IL', 'MA', 'MD', 'ME', 'MI', 'MN', 'NC', 'NH', 'NJ', 'NM', 'NV', 'NY', 'OR', 'PA', 'RI', 'TX', 'VA', 'VT', 'WA', 'WI']\n",
      "wrote to predictions/presidential_preds_1_lambda.csv\n"
     ]
    }
   ],
   "source": [
    "alpha = 1\n",
    "weight_func = 'lambda x: 1'\n",
    "df = pd.DataFrame.from_dict(get_preds(d_probs, alpha, 0, eval(weight_func))).rename(columns={0: 'state_po', 1: 'd_prob'})\n",
    "filename = f'predictions/presidential_preds_{\"-\".join(str(alpha).split(\".\"))}_{weight_func.split(\" \", 1)[0]}.csv'\n",
    "df.to_csv(filename, index=False)\n",
    "print(f'wrote to {filename}')"
   ]
  },
  {
   "cell_type": "code",
   "execution_count": null,
   "metadata": {},
   "outputs": [],
   "source": []
  },
  {
   "cell_type": "code",
   "execution_count": null,
   "metadata": {},
   "outputs": [],
   "source": []
  }
 ],
 "metadata": {
  "kernelspec": {
   "display_name": "Python 3",
   "language": "python",
   "name": "python3"
  },
  "language_info": {
   "codemirror_mode": {
    "name": "ipython",
    "version": 3
   },
   "file_extension": ".py",
   "mimetype": "text/x-python",
   "name": "python",
   "nbconvert_exporter": "python",
   "pygments_lexer": "ipython3",
   "version": "3.6.12"
  }
 },
 "nbformat": 4,
 "nbformat_minor": 4
}
