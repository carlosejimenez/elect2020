{
 "cells": [
  {
   "cell_type": "code",
   "execution_count": 1,
   "metadata": {},
   "outputs": [],
   "source": [
    "import pandas as pd\n",
    "import numpy as np\n",
    "from math import exp\n",
    "from utils import get_names2abbrs_dict\n",
    "from utils import get_predictions_df"
   ]
  },
  {
   "cell_type": "code",
   "execution_count": 2,
   "metadata": {},
   "outputs": [],
   "source": [
    "raw = True\n",
    "start_date = '2020-05-01'\n",
    "end_date = '2020-10-31'"
   ]
  },
  {
   "cell_type": "code",
   "execution_count": 3,
   "metadata": {},
   "outputs": [],
   "source": [
    "state_po_votes = pd.read_csv('label_data/electoral_votes_2020.csv')"
   ]
  },
  {
   "cell_type": "code",
   "execution_count": 4,
   "metadata": {},
   "outputs": [],
   "source": [
    "d_probs = pd.read_csv(f'poll_data/all_pres_polls_d_probs{\"_raw\" if raw else \"\"}.csv')"
   ]
  },
  {
   "cell_type": "code",
   "execution_count": 5,
   "metadata": {},
   "outputs": [
    {
     "name": "stdout",
     "output_type": "stream",
     "text": [
      "wrote to predictions/presidential_raw_preds_logistic_0-4_2020-05-01-2020-10-31.csv\n"
     ]
    }
   ],
   "source": [
    "kwargs = {'start_date': start_date, 'end_date': end_date, 'alpha': 0.4, 'logistic': True}\n",
    "df = get_predictions_df(d_probs, **kwargs)\n",
    "filename = f'predictions/presidential_{\"raw_\" if raw else \"\"}preds_{\"logistic\" if kwargs[\"logistic\"] else \"lambda\"}_{\"-\".join(str(kwargs[\"alpha\"]).split(\".\"))}_{start_date}-{end_date}.csv'\n",
    "df.to_csv(filename, index=False)\n",
    "print(f'wrote to {filename}')"
   ]
  },
  {
   "cell_type": "code",
   "execution_count": 6,
   "metadata": {},
   "outputs": [
    {
     "name": "stdout",
     "output_type": "stream",
     "text": [
      "wrote to predictions/presidential_raw_preds_lambda_0-2_2020-05-01-2020-10-31.csv\n"
     ]
    }
   ],
   "source": [
    "kwargs = {'start_date': start_date, 'end_date': end_date, 'alpha': 0.2, 'logistic': False}\n",
    "df = get_predictions_df(d_probs, **kwargs)\n",
    "filename = f'predictions/presidential_{\"raw_\" if raw else \"\"}preds_{\"logistic\" if kwargs[\"logistic\"] else \"lambda\"}_{\"-\".join(str(kwargs[\"alpha\"]).split(\".\"))}_{start_date}-{end_date}.csv'\n",
    "df.to_csv(filename, index=False)\n",
    "print(f'wrote to {filename}')"
   ]
  },
  {
   "cell_type": "code",
   "execution_count": 7,
   "metadata": {},
   "outputs": [
    {
     "name": "stdout",
     "output_type": "stream",
     "text": [
      "wrote to predictions/presidential_raw_preds_lambda_1_2020-05-01-2020-10-31.csv\n"
     ]
    }
   ],
   "source": [
    "kwargs = {'start_date': start_date, 'end_date': end_date, 'alpha': 1, 'logistic': False}\n",
    "df = get_predictions_df(d_probs, **kwargs)\n",
    "filename = f'predictions/presidential_{\"raw_\" if raw else \"\"}preds_{\"logistic\" if kwargs[\"logistic\"] else \"lambda\"}_{\"-\".join(str(kwargs[\"alpha\"]).split(\".\"))}_{start_date}-{end_date}.csv'\n",
    "df.to_csv(filename, index=False)\n",
    "print(f'wrote to {filename}')"
   ]
  },
  {
   "cell_type": "code",
   "execution_count": null,
   "metadata": {},
   "outputs": [],
   "source": []
  },
  {
   "cell_type": "code",
   "execution_count": null,
   "metadata": {},
   "outputs": [],
   "source": []
  }
 ],
 "metadata": {
  "kernelspec": {
   "display_name": "Python 3",
   "language": "python",
   "name": "python3"
  },
  "language_info": {
   "codemirror_mode": {
    "name": "ipython",
    "version": 3
   },
   "file_extension": ".py",
   "mimetype": "text/x-python",
   "name": "python",
   "nbconvert_exporter": "python",
   "pygments_lexer": "ipython3",
   "version": "3.8.5"
  }
 },
 "nbformat": 4,
 "nbformat_minor": 4
}
