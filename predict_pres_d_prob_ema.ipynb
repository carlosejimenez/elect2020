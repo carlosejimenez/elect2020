{
 "cells": [
  {
   "cell_type": "code",
   "execution_count": 8,
   "metadata": {},
   "outputs": [],
   "source": [
    "import pandas as pd\n",
    "import numpy as np\n",
    "from utils import get_names2abbrs_dict"
   ]
  },
  {
   "cell_type": "code",
   "execution_count": 9,
   "metadata": {},
   "outputs": [],
   "source": [
    "state_po_votes = pd.read_csv('electoral_votes_2020.csv')"
   ]
  },
  {
   "cell_type": "code",
   "execution_count": 18,
   "metadata": {},
   "outputs": [],
   "source": [
    "d_probs = pd.read_csv('poll_data/all_pres_polls_d_probs.csv')"
   ]
  },
  {
   "cell_type": "code",
   "execution_count": 40,
   "metadata": {},
   "outputs": [],
   "source": [
    "mask = (d_probs['date'] >= '2020-05-01')\n",
    "d_probs = d_probs[mask].sort_values(by='date').reset_index(drop=True)"
   ]
  },
  {
   "cell_type": "code",
   "execution_count": 41,
   "metadata": {},
   "outputs": [],
   "source": [
    "alpha = 0.04\n",
    "nat_alpha = 0.0\n",
    "standard_sample_size = 1000"
   ]
  },
  {
   "cell_type": "code",
   "execution_count": 42,
   "metadata": {},
   "outputs": [],
   "source": [
    "all_states = {k: 0.5 for k in set(get_names2abbrs_dict().values())}  # prior = 0.5 for all states\n",
    "for row in range(len(d_probs)):\n",
    "    state_po = d_probs.iloc[row]['state_po']\n",
    "    sample_size = d_probs.iloc[row]['sample_size'].item()\n",
    "    d_prob = d_probs.iloc[row]['d_prob'].item()\n",
    "    sample_weight = (sample_size / standard_sample_size)\n",
    "    if state_po == 'NAT':\n",
    "        weight = nat_alpha * sample_weight\n",
    "        for state_code in all_states.keys():\n",
    "            all_states[state_code] = (all_states[state_code] * (1 - weight)) + (d_prob * weight)\n",
    "    else:\n",
    "        weight = alpha * sample_weight\n",
    "        all_states[state_po] = (all_states[state_po] * (1 - weight)) + (d_prob * weight)"
   ]
  },
  {
   "cell_type": "code",
   "execution_count": 43,
   "metadata": {},
   "outputs": [],
   "source": [
    "d_states = list()\n",
    "r_states = list()\n",
    "for state_po in all_states:\n",
    "#     votes = state_po_votes[state_po_votes['state_po'] == state_po]['electoral_votes'].item()\n",
    "    if all_states[state_po] > 0.5:\n",
    "        d_states.append(state_po)\n",
    "    else:\n",
    "        r_states.append(state_po)\n",
    "d_votes = state_po_votes[state_po_votes['state_po'].isin(d_states)]['electoral_votes'].sum()\n",
    "r_votes = state_po_votes[state_po_votes['state_po'].isin(r_states)]['electoral_votes'].sum()"
   ]
  },
  {
   "cell_type": "code",
   "execution_count": 45,
   "metadata": {},
   "outputs": [
    {
     "name": "stdout",
     "output_type": "stream",
     "text": [
      "Biden wins with 350 votes!\n",
      "Won with states ['AZ', 'CA', 'CO', 'CT', 'DC', 'DE', 'FL', 'GA', 'HI', 'IL', 'MA', 'MD', 'ME', 'MI', 'MN', 'NC', 'NH', 'NJ', 'NM', 'NV', 'NY', 'OR', 'PA', 'RI', 'VA', 'VT', 'WA', 'WI']\n"
     ]
    }
   ],
   "source": [
    "win_str = ''\n",
    "win_states = None\n",
    "if d_votes >= 270:\n",
    "    win_str = f'Biden wins with {d_votes} votes!'\n",
    "    win_states = d_states\n",
    "elif r_votes >= 270:\n",
    "    win_str = f'Trump wins with {r_votes} votes!'\n",
    "    win_states = r_states\n",
    "else:\n",
    "    win_str = f'It\\'s a tie! {d_votes} = {r_votes}'\n",
    "print(win_str)\n",
    "if win_states:\n",
    "    print(f'Won with states {sorted(win_states)}')"
   ]
  },
  {
   "cell_type": "code",
   "execution_count": null,
   "metadata": {},
   "outputs": [],
   "source": []
  }
 ],
 "metadata": {
  "kernelspec": {
   "display_name": "Python 3",
   "language": "python",
   "name": "python3"
  },
  "language_info": {
   "codemirror_mode": {
    "name": "ipython",
    "version": 3
   },
   "file_extension": ".py",
   "mimetype": "text/x-python",
   "name": "python",
   "nbconvert_exporter": "python",
   "pygments_lexer": "ipython3",
   "version": "3.8.5"
  }
 },
 "nbformat": 4,
 "nbformat_minor": 4
}
