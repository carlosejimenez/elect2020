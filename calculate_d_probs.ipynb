{
 "cells": [
  {
   "cell_type": "code",
   "execution_count": 7,
   "metadata": {},
   "outputs": [],
   "source": [
    "import pandas as pd\n",
    "from collections import Counter, defaultdict\n",
    "from us import states\n",
    "from utils import get_names2abbrs_dict"
   ]
  },
  {
   "cell_type": "code",
   "execution_count": 8,
   "metadata": {},
   "outputs": [
    {
     "name": "stderr",
     "output_type": "stream",
     "text": [
      "/usr/local/Caskroom/miniconda/base/envs/polling/lib/python3.8/site-packages/IPython/core/interactiveshell.py:3145: DtypeWarning: Columns (6,22,25,29) have mixed types.Specify dtype option on import or set low_memory=False.\n",
      "  has_raised = await self.run_ast_nodes(code_ast.body, cell_name,\n"
     ]
    }
   ],
   "source": [
    "# pres_df = pd.read_csv(open('poll_data/president_polls.csv'))\n",
    "pres_df = pd.read_csv('poll_data/president_polls_latest.csv')"
   ]
  },
  {
   "cell_type": "code",
   "execution_count": 10,
   "metadata": {},
   "outputs": [],
   "source": [
    "def clean_pres_polls(in_df):\n",
    "    df = in_df.copy()\n",
    "    polls = list()\n",
    "    names2abbrs = get_names2abbrs_dict()\n",
    "    column_list = ['question_id', 'poll_id', 'state', 'fte_grade', 'sample_size', \n",
    "                   'population', 'population_full', 'methodology', 'start_date', \n",
    "                   'end_date', 'internal', 'partisan', 'tracking', 'created_at', \n",
    "                   'url', 'answer', 'candidate_name', 'candidate_party', 'pct']\n",
    "    for p_id in Counter(df['poll_id']):\n",
    "        for q_id in Counter(df[df['poll_id'] == p_id]['question_id']):\n",
    "            mask = (df['poll_id'] == p_id) & (df['question_id'] == q_id) & (df['cycle'] == 2020) & (df['stage'] == 'general')\n",
    "            rows = df[mask]\n",
    "            rows = df[column_list]\n",
    "            if set(rows['candidate_name']) == set(['Joseph R. Biden Jr.', 'Donald Trump']) and len(rows) == 2:\n",
    "                state = list(set(rows['state']))\n",
    "                assert len(state) == 1\n",
    "                state_str = str(state[0])\n",
    "                if state_str != 'nan':\n",
    "                    state_str = names2abbrs[state_str]\n",
    "                else:\n",
    "                    state_str = 'NAT'\n",
    "                rows['state_po'] = state_str\n",
    "                polls.extend(rows)\n",
    "    df = pd.concat(polls)"
   ]
  },
  {
   "cell_type": "code",
   "execution_count": 45,
   "metadata": {},
   "outputs": [],
   "source": [
    "def get_pres_poll_d_prob(in_df, raw):\n",
    "    df = in_df.copy()\n",
    "    results = list()\n",
    "    names2abbrs = get_names2abbrs_dict()\n",
    "    for p_id in Counter(df['poll_id']):\n",
    "        for q_id in Counter(df[df['poll_id'] == p_id]['question_id']):\n",
    "            mask = (df['poll_id'] == p_id) & (df['question_id'] == q_id) & (df['cycle'] == 2020) & (df['stage'] == 'general')\n",
    "            rows = df[mask]\n",
    "            if set(rows['candidate_name']) == set(['Joseph R. Biden Jr.', 'Donald Trump']) and len(rows) == 2:\n",
    "                state = list(set(rows['state']))\n",
    "                assert len(state) == 1\n",
    "                state_str = str(state[0])\n",
    "                if state_str != 'nan':\n",
    "                    state_po = names2abbrs[state_str]\n",
    "                else:\n",
    "                    state_po = 'NAT'\n",
    "                    state_str = 'National'\n",
    "                assert len(set(rows['end_date'])) == 1\n",
    "                date = rows['end_date'].iloc[0]\n",
    "                month, day, year = date.split('/')\n",
    "                month = month.zfill(2)\n",
    "                day = day.zfill(2)\n",
    "                year = f'20{year}'\n",
    "                date = '-'.join([year, month, day])  # get yyyy-mm-dd sortable format\n",
    "                sample_size = rows['sample_size'].iloc[0].item()\n",
    "                population = rows['population'].iloc[0]\n",
    "                \n",
    "                d_row = rows[rows['candidate_party'] == 'DEM']\n",
    "                r_row = rows[rows['candidate_party'] == 'REP']\n",
    "                assert len(d_row) == 1 and len(r_row) == 1\n",
    "                d_pct = d_row['pct'].item()\n",
    "                r_pct = r_row['pct'].item()\n",
    "                if raw:\n",
    "                    d_prob = d_pct/100\n",
    "                else:\n",
    "                    d_prob = d_pct / (d_pct + r_pct)\n",
    "                result = [date, p_id, q_id, state_str, state_po, sample_size, population, d_prob]\n",
    "                results.append(result)\n",
    "    return pd.DataFrame(results, columns=['date', 'poll_id', 'question_id', 'state', 'state_po', 'sample_size', 'population', 'd_prob']).dropna().sort_values(by='date').reset_index(drop=True)"
   ]
  },
  {
   "cell_type": "code",
   "execution_count": 35,
   "metadata": {},
   "outputs": [],
   "source": [
    "d_probs = get_pres_poll_d_prob(pres_df, raw=False)"
   ]
  },
  {
   "cell_type": "code",
   "execution_count": 36,
   "metadata": {},
   "outputs": [],
   "source": [
    "d_probs.to_csv('./poll_data/all_pres_polls_d_probs.csv', index=False)"
   ]
  },
  {
   "cell_type": "code",
   "execution_count": 47,
   "metadata": {},
   "outputs": [],
   "source": [
    "d_probs_raw = get_pres_poll_d_prob(pres_df, raw=True)"
   ]
  },
  {
   "cell_type": "code",
   "execution_count": 50,
   "metadata": {},
   "outputs": [],
   "source": [
    "d_probs_raw.to_csv('./poll_data/all_pres_polls_d_probs_raw.csv', index=False)"
   ]
  },
  {
   "cell_type": "code",
   "execution_count": null,
   "metadata": {},
   "outputs": [],
   "source": []
  }
 ],
 "metadata": {
  "kernelspec": {
   "display_name": "Python 3",
   "language": "python",
   "name": "python3"
  },
  "language_info": {
   "codemirror_mode": {
    "name": "ipython",
    "version": 3
   },
   "file_extension": ".py",
   "mimetype": "text/x-python",
   "name": "python",
   "nbconvert_exporter": "python",
   "pygments_lexer": "ipython3",
   "version": "3.8.5"
  },
  "pycharm": {
   "stem_cell": {
    "cell_type": "raw",
    "source": [],
    "metadata": {
     "collapsed": false
    }
   }
  }
 },
 "nbformat": 4,
 "nbformat_minor": 4
}