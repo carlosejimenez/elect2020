{
 "cells": [
  {
   "cell_type": "code",
   "execution_count": 1,
   "metadata": {},
   "outputs": [],
   "source": [
    "import pandas as pd\n",
    "from collections import Counter, defaultdict\n",
    "from us import states\n",
    "from utils import get_names2abbrs_dict"
   ]
  },
  {
   "cell_type": "code",
   "execution_count": 2,
   "metadata": {},
   "outputs": [],
   "source": [
    "# pres_df = pd.read_csv(open('poll_data/president_polls.csv'))\n",
    "pres_df = pd.read_csv('president_polls_new.csv')"
   ]
  },
  {
   "cell_type": "code",
   "execution_count": 3,
   "metadata": {},
   "outputs": [],
   "source": [
    "def clean_pres_polls(in_df):\n",
    "    df = in_df.copy()\n",
    "    polls = list()\n",
    "    names2abbrs = get_names2abbrs_dict()\n",
    "    column_list = ['question_id', 'poll_id', 'state', 'fte_grade', 'sample_size', \n",
    "               'population', 'population_full', 'methodology', 'start_date', \n",
    "               'end_date', 'internal', 'partisan', 'tracking', 'created_at', \n",
    "               'url', 'answer', 'candidate_name', 'candidate_party', 'pct']\n",
    "    for p_id in Counter(df['poll_id']):\n",
    "        for q_id in Counter(df[df['poll_id'] == p_id]['question_id']):\n",
    "            mask = (df['poll_id'] == p_id) & (df['question_id'] == q_id) & (df['cycle'] == 2020) & (df['stage'] == 'general')\n",
    "            rows = df[mask]\n",
    "            rows = df[column_list]\n",
    "            if set(rows['candidate_name']) == set(['Joseph R. Biden Jr.', 'Donald Trump']) and len(rows) == 2:\n",
    "                state = list(set(rows['state']))\n",
    "                assert len(state) == 1\n",
    "                state_str = str(state[0])\n",
    "                if state_str != 'nan':\n",
    "                    state_str = names2abbrs[state_str]\n",
    "                else:\n",
    "                    state_str = 'NAT'\n",
    "                rows['state_po'] = state_str\n",
    "                polls.extend(rows)\n",
    "    df = pd.concat(polls)"
   ]
  },
  {
   "cell_type": "code",
   "execution_count": 4,
   "metadata": {},
   "outputs": [],
   "source": [
    "def get_pres_poll_d_prob(in_df):\n",
    "    df = in_df.copy()\n",
    "    results = list()\n",
    "    names2abbrs = get_names2abbrs_dict()\n",
    "    for p_id in Counter(df['poll_id']):\n",
    "        for q_id in Counter(df[df['poll_id'] == p_id]['question_id']):\n",
    "            mask = (df['poll_id'] == p_id) & (df['question_id'] == q_id) & (df['cycle'] == 2020) & (df['stage'] == 'general')\n",
    "            rows = df[mask]\n",
    "            if set(rows['candidate_name']) == set(['Joseph R. Biden Jr.', 'Donald Trump']) and len(rows) == 2:\n",
    "                state = list(set(rows['state']))\n",
    "                assert len(state) == 1\n",
    "                state_str = str(state[0])\n",
    "                if state_str != 'nan':\n",
    "                    state_po = names2abbrs[state_str]\n",
    "                else:\n",
    "                    state_po = 'NAT'\n",
    "                assert len(set(rows['end_date'])) == 1\n",
    "                date = rows['end_date'].iloc[0]\n",
    "                month, day, year = date.split('/')\n",
    "                month = month.zfill(2)\n",
    "                day = day.zfill(2)\n",
    "                year = f'20{year}'\n",
    "                date = '-'.join([year, month, day])  # get yyyy-mm-dd sortable format\n",
    "                sample_size = rows['sample_size'].iloc[0].item()\n",
    "                population = rows['population'].iloc[0]\n",
    "                \n",
    "                d_row = rows[rows['candidate_party'] == 'DEM']\n",
    "                r_row = rows[rows['candidate_party'] == 'REP']\n",
    "                assert len(d_row) == 1 and len(r_row) == 1\n",
    "                d_pct = d_row['pct'].item()\n",
    "                r_pct = r_row['pct'].item()\n",
    "                d_prob = d_pct / (d_pct + r_pct)\n",
    "                result = [date, p_id, q_id, state_str, state_po, sample_size, population, d_prob]\n",
    "                results.append(result)\n",
    "    return pd.DataFrame(results, columns=['date', 'poll_id', 'question_id', 'state', 'state_po', 'sample_size', 'population', 'd_prob']).sort_values(by='date').reset_index(drop=True)"
   ]
  },
  {
   "cell_type": "code",
   "execution_count": 5,
   "metadata": {},
   "outputs": [],
   "source": [
    "d_probs = get_pres_poll_d_prob(pres_df)"
   ]
  },
  {
   "cell_type": "code",
   "execution_count": 9,
   "metadata": {},
   "outputs": [],
   "source": [
    "d_probs = d_probs.loc[list(d_probs['sample_size'].dropna().index)].reset_index(drop=True).sort_values(by='date')"
   ]
  },
  {
   "cell_type": "code",
   "execution_count": 34,
   "metadata": {},
   "outputs": [
    {
     "data": {
      "text/plain": [
       "'pct'"
      ]
     },
     "execution_count": 34,
     "metadata": {},
     "output_type": "execute_result"
    }
   ],
   "source": [
    "'question_id', 'poll_id', 'state', 'fte_grade', 'sample_size', \n",
    "'population', 'population_full', 'methodology', 'start_date', \n",
    "'end_date', 'internal', 'partisan', 'tracking', 'created_at', \n",
    "'url', 'race_id', 'answer', 'candidate_name', 'candidate_party', \n",
    "'pct'"
   ]
  },
  {
   "cell_type": "code",
   "execution_count": 11,
   "metadata": {},
   "outputs": [],
   "source": [
    "d_probs.to_csv('./poll_data/all_pres_polls_d_probs.csv', index=False)"
   ]
  },
  {
   "cell_type": "code",
   "execution_count": null,
   "metadata": {},
   "outputs": [],
   "source": []
  }
 ],
 "metadata": {
  "kernelspec": {
   "display_name": "Python 3",
   "language": "python",
   "name": "python3"
  },
  "language_info": {
   "codemirror_mode": {
    "name": "ipython",
    "version": 3
   },
   "file_extension": ".py",
   "mimetype": "text/x-python",
   "name": "python",
   "nbconvert_exporter": "python",
   "pygments_lexer": "ipython3",
   "version": "3.8.5"
  }
 },
 "nbformat": 4,
 "nbformat_minor": 4
}
