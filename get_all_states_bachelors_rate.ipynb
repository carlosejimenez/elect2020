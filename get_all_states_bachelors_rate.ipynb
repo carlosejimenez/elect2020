{
 "cells": [
  {
   "cell_type": "code",
   "execution_count": 1,
   "metadata": {},
   "outputs": [],
   "source": [
    "import json\n",
    "import pandas as pd\n",
    "from us import states\n",
    "from collections import defaultdict\n",
    "import numpy as np\n",
    "from fredapi import Fred\n",
    "keys = json.load(open('api_keys.json'))"
   ]
  },
  {
   "cell_type": "code",
   "execution_count": 2,
   "metadata": {},
   "outputs": [],
   "source": [
    "fred = Fred(api_key=keys['fred'])"
   ]
  },
  {
   "cell_type": "code",
   "execution_count": 8,
   "metadata": {},
   "outputs": [],
   "source": [
    "def get_data(state):\n",
    "    data_str = f'GCT1502{state.abbr}'\n",
    "    print(data_str)\n",
    "    df = pd.DataFrame(fred.get_series(data_str)).resample('Y').mean()\n",
    "    years = list(map(int, df.index.year))\n",
    "    rates = list(df[0].values/100)\n",
    "    return list(zip(years, rates))"
   ]
  },
  {
   "cell_type": "code",
   "execution_count": 9,
   "metadata": {},
   "outputs": [
    {
     "name": "stdout",
     "output_type": "stream",
     "text": [
      "GCT1502AL\n",
      "GCT1502AK\n",
      "GCT1502AZ\n",
      "GCT1502AR\n",
      "GCT1502CA\n",
      "GCT1502CO\n",
      "GCT1502CT\n",
      "GCT1502DE\n",
      "GCT1502FL\n",
      "GCT1502GA\n",
      "GCT1502HI\n",
      "GCT1502ID\n",
      "GCT1502IL\n",
      "GCT1502IN\n",
      "GCT1502IA\n",
      "GCT1502KS\n",
      "GCT1502KY\n",
      "GCT1502LA\n",
      "GCT1502ME\n",
      "GCT1502MD\n",
      "GCT1502MA\n",
      "GCT1502MI\n",
      "GCT1502MN\n",
      "GCT1502MS\n",
      "GCT1502MO\n",
      "GCT1502MT\n",
      "GCT1502NE\n",
      "GCT1502NV\n",
      "GCT1502NH\n",
      "GCT1502NJ\n",
      "GCT1502NM\n",
      "GCT1502NY\n",
      "GCT1502NC\n",
      "GCT1502ND\n",
      "GCT1502OH\n",
      "GCT1502OK\n",
      "GCT1502OR\n",
      "GCT1502PA\n",
      "GCT1502RI\n",
      "GCT1502SC\n",
      "GCT1502SD\n",
      "GCT1502TN\n",
      "GCT1502TX\n",
      "GCT1502UT\n",
      "GCT1502VT\n",
      "GCT1502VA\n",
      "GCT1502WA\n",
      "GCT1502WV\n",
      "GCT1502WI\n",
      "GCT1502WY\n"
     ]
    }
   ],
   "source": [
    "all_states = []\n",
    "for state in states.STATES:\n",
    "    for (year, rate) in get_data(state):\n",
    "        all_states.append([state.abbr, year, rate])"
   ]
  },
  {
   "cell_type": "code",
   "execution_count": 10,
   "metadata": {},
   "outputs": [],
   "source": [
    "var_name = 'bachelors_education_rate'"
   ]
  },
  {
   "cell_type": "code",
   "execution_count": 11,
   "metadata": {},
   "outputs": [],
   "source": [
    "all_states_df = pd.DataFrame(all_states, columns=['state_po', 'year', var_name])"
   ]
  },
  {
   "cell_type": "code",
   "execution_count": 12,
   "metadata": {},
   "outputs": [
    {
     "data": {
      "text/html": [
       "<div>\n",
       "<style scoped>\n",
       "    .dataframe tbody tr th:only-of-type {\n",
       "        vertical-align: middle;\n",
       "    }\n",
       "\n",
       "    .dataframe tbody tr th {\n",
       "        vertical-align: top;\n",
       "    }\n",
       "\n",
       "    .dataframe thead th {\n",
       "        text-align: right;\n",
       "    }\n",
       "</style>\n",
       "<table border=\"1\" class=\"dataframe\">\n",
       "  <thead>\n",
       "    <tr style=\"text-align: right;\">\n",
       "      <th></th>\n",
       "      <th>state_po</th>\n",
       "      <th>year</th>\n",
       "      <th>bachelors_education_rate</th>\n",
       "    </tr>\n",
       "  </thead>\n",
       "  <tbody>\n",
       "    <tr>\n",
       "      <th>0</th>\n",
       "      <td>AL</td>\n",
       "      <td>2006</td>\n",
       "      <td>0.211</td>\n",
       "    </tr>\n",
       "    <tr>\n",
       "      <th>1</th>\n",
       "      <td>AL</td>\n",
       "      <td>2007</td>\n",
       "      <td>0.214</td>\n",
       "    </tr>\n",
       "    <tr>\n",
       "      <th>2</th>\n",
       "      <td>AL</td>\n",
       "      <td>2008</td>\n",
       "      <td>0.220</td>\n",
       "    </tr>\n",
       "    <tr>\n",
       "      <th>3</th>\n",
       "      <td>AL</td>\n",
       "      <td>2009</td>\n",
       "      <td>0.220</td>\n",
       "    </tr>\n",
       "    <tr>\n",
       "      <th>4</th>\n",
       "      <td>AL</td>\n",
       "      <td>2010</td>\n",
       "      <td>0.219</td>\n",
       "    </tr>\n",
       "    <tr>\n",
       "      <th>...</th>\n",
       "      <td>...</td>\n",
       "      <td>...</td>\n",
       "      <td>...</td>\n",
       "    </tr>\n",
       "    <tr>\n",
       "      <th>695</th>\n",
       "      <td>WY</td>\n",
       "      <td>2015</td>\n",
       "      <td>0.262</td>\n",
       "    </tr>\n",
       "    <tr>\n",
       "      <th>696</th>\n",
       "      <td>WY</td>\n",
       "      <td>2016</td>\n",
       "      <td>0.271</td>\n",
       "    </tr>\n",
       "    <tr>\n",
       "      <th>697</th>\n",
       "      <td>WY</td>\n",
       "      <td>2017</td>\n",
       "      <td>0.276</td>\n",
       "    </tr>\n",
       "    <tr>\n",
       "      <th>698</th>\n",
       "      <td>WY</td>\n",
       "      <td>2018</td>\n",
       "      <td>0.269</td>\n",
       "    </tr>\n",
       "    <tr>\n",
       "      <th>699</th>\n",
       "      <td>WY</td>\n",
       "      <td>2019</td>\n",
       "      <td>0.291</td>\n",
       "    </tr>\n",
       "  </tbody>\n",
       "</table>\n",
       "<p>700 rows × 3 columns</p>\n",
       "</div>"
      ],
      "text/plain": [
       "    state_po  year  bachelors_education_rate\n",
       "0         AL  2006                     0.211\n",
       "1         AL  2007                     0.214\n",
       "2         AL  2008                     0.220\n",
       "3         AL  2009                     0.220\n",
       "4         AL  2010                     0.219\n",
       "..       ...   ...                       ...\n",
       "695       WY  2015                     0.262\n",
       "696       WY  2016                     0.271\n",
       "697       WY  2017                     0.276\n",
       "698       WY  2018                     0.269\n",
       "699       WY  2019                     0.291\n",
       "\n",
       "[700 rows x 3 columns]"
      ]
     },
     "execution_count": 12,
     "metadata": {},
     "output_type": "execute_result"
    }
   ],
   "source": [
    "all_states_df"
   ]
  },
  {
   "cell_type": "code",
   "execution_count": 15,
   "metadata": {},
   "outputs": [
    {
     "name": "stdout",
     "output_type": "stream",
     "text": [
      "./pop_data/2006-2019-bachelors-education-rate.csv\n"
     ]
    }
   ],
   "source": [
    "min_year, max_year = all_states_df['year'].min(), all_states_df['year'].max()\n",
    "filename = f'./pop_data/{min_year}-{max_year}-{\"-\".join(var_name.split(\"_\"))}.csv'\n",
    "print(filename)"
   ]
  },
  {
   "cell_type": "code",
   "execution_count": 14,
   "metadata": {},
   "outputs": [],
   "source": [
    "all_states_df.to_csv(open(filename, 'w+'), index=False)"
   ]
  },
  {
   "cell_type": "code",
   "execution_count": null,
   "metadata": {},
   "outputs": [],
   "source": []
  }
 ],
 "metadata": {
  "kernelspec": {
   "display_name": "Python 3",
   "language": "python",
   "name": "python3"
  },
  "language_info": {
   "codemirror_mode": {
    "name": "ipython",
    "version": 3
   },
   "file_extension": ".py",
   "mimetype": "text/x-python",
   "name": "python",
   "nbconvert_exporter": "python",
   "pygments_lexer": "ipython3",
   "version": "3.8.5"
  }
 },
 "nbformat": 4,
 "nbformat_minor": 4
}
