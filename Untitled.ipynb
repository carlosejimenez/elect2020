{
 "cells": [
  {
   "cell_type": "code",
   "execution_count": 30,
   "metadata": {},
   "outputs": [],
   "source": [
    "import pandas as pd\n",
    "import os\n",
    "from functools import reduce"
   ]
  },
  {
   "cell_type": "code",
   "execution_count": 31,
   "metadata": {},
   "outputs": [],
   "source": [
    "data_list = [\n",
    "    '1984-2019-median-household-income.csv',\n",
    "    '2006-2019-bachelors-education-rate.csv',\n",
    "    '1975-2020-states-house-price-index.csv',\n",
    "    '1900-2019-all-states-populations.csv',\n",
    "    '1976-2020-state-unemployment-rates.csv',\n",
    "    '1982-2020-states-leading-index.csv',\n",
    "    '2006-2019-states-graduate-education-rate.csv',\n",
    "]"
   ]
  },
  {
   "cell_type": "code",
   "execution_count": 32,
   "metadata": {},
   "outputs": [
    {
     "name": "stdout",
     "output_type": "stream",
     "text": [
      "Index(['state_po', 'year', 'median_household_income'], dtype='object')\n",
      "Index(['state_po', 'year', 'bachelors_education_rate'], dtype='object')\n",
      "Index(['state_po', 'year', 'house_price_index'], dtype='object')\n",
      "Index(['state_po', 'year', 'population'], dtype='object')\n",
      "Index(['state_po', 'year', 'unemployment_rate'], dtype='object')\n",
      "Index(['state_po', 'year', 'leading_index'], dtype='object')\n",
      "Index(['state_po', 'year', 'graduate_education_rate'], dtype='object')\n"
     ]
    }
   ],
   "source": [
    "datas = []\n",
    "for file in data_list:\n",
    "    data = pd.read_csv(f'pop_data/{file}')\n",
    "    datas.append(data)\n",
    "    print(data.columns)"
   ]
  },
  {
   "cell_type": "code",
   "execution_count": 35,
   "metadata": {},
   "outputs": [
    {
     "name": "stdout",
     "output_type": "stream",
     "text": [
      "['year', 'state_po']\n"
     ]
    }
   ],
   "source": [
    "common_cols = list(reduce(lambda x, y: x.intersection(y), map(lambda x: set(x.columns), datas)))\n",
    "print(common_cols)"
   ]
  },
  {
   "cell_type": "code",
   "execution_count": 50,
   "metadata": {},
   "outputs": [],
   "source": [
    "total_data = reduce(lambda x, y: x.merge(y, on=common_cols), datas)"
   ]
  },
  {
   "cell_type": "code",
   "execution_count": 52,
   "metadata": {},
   "outputs": [
    {
     "data": {
      "text/plain": [
       "Index(['state_po', 'year', 'median_household_income',\n",
       "       'bachelors_education_rate', 'house_price_index', 'population',\n",
       "       'unemployment_rate', 'leading_index', 'graduate_education_rate'],\n",
       "      dtype='object')"
      ]
     },
     "execution_count": 52,
     "metadata": {},
     "output_type": "execute_result"
    }
   ],
   "source": [
    "total_data.columns"
   ]
  },
  {
   "cell_type": "code",
   "execution_count": 57,
   "metadata": {},
   "outputs": [],
   "source": [
    "year_normalized_columns = ['median_household_income', 'bachelors_education_rate', 'house_price_index',\n",
    "                           'unemployment_rate', 'graduate_education_rate']"
   ]
  },
  {
   "cell_type": "code",
   "execution_count": 62,
   "metadata": {},
   "outputs": [],
   "source": [
    "year_normalized_data = []"
   ]
  },
  {
   "cell_type": "code",
   "execution_count": 63,
   "metadata": {},
   "outputs": [],
   "source": [
    "for year in range(total_data['year'].min(), total_data['year'].max() +1):\n",
    "    rows = total_data[total_data['year'] == year][year_normalized_columns]\n",
    "    rows_normalized = (rows - rows.min()) / (rows.max() - rows.min())\n",
    "    year_normalized_data.append(rows_normalized)"
   ]
  },
  {
   "cell_type": "code",
   "execution_count": 65,
   "metadata": {},
   "outputs": [
    {
     "data": {
      "text/html": [
       "<div>\n",
       "<style scoped>\n",
       "    .dataframe tbody tr th:only-of-type {\n",
       "        vertical-align: middle;\n",
       "    }\n",
       "\n",
       "    .dataframe tbody tr th {\n",
       "        vertical-align: top;\n",
       "    }\n",
       "\n",
       "    .dataframe thead th {\n",
       "        text-align: right;\n",
       "    }\n",
       "</style>\n",
       "<table border=\"1\" class=\"dataframe\">\n",
       "  <thead>\n",
       "    <tr style=\"text-align: right;\">\n",
       "      <th></th>\n",
       "      <th>median_household_income</th>\n",
       "      <th>bachelors_education_rate</th>\n",
       "      <th>house_price_index</th>\n",
       "      <th>unemployment_rate</th>\n",
       "      <th>graduate_education_rate</th>\n",
       "    </tr>\n",
       "  </thead>\n",
       "  <tbody>\n",
       "    <tr>\n",
       "      <th>0</th>\n",
       "      <td>0.096598</td>\n",
       "      <td>0.224390</td>\n",
       "      <td>0.181468</td>\n",
       "      <td>0.326336</td>\n",
       "      <td>0.166667</td>\n",
       "    </tr>\n",
       "    <tr>\n",
       "      <th>14</th>\n",
       "      <td>0.650693</td>\n",
       "      <td>0.507317</td>\n",
       "      <td>0.163865</td>\n",
       "      <td>0.912214</td>\n",
       "      <td>0.354167</td>\n",
       "    </tr>\n",
       "    <tr>\n",
       "      <th>28</th>\n",
       "      <td>0.357806</td>\n",
       "      <td>0.439024</td>\n",
       "      <td>0.435733</td>\n",
       "      <td>0.362595</td>\n",
       "      <td>0.322917</td>\n",
       "    </tr>\n",
       "    <tr>\n",
       "      <th>42</th>\n",
       "      <td>0.069734</td>\n",
       "      <td>0.082927</td>\n",
       "      <td>0.110965</td>\n",
       "      <td>0.580153</td>\n",
       "      <td>0.010417</td>\n",
       "    </tr>\n",
       "    <tr>\n",
       "      <th>56</th>\n",
       "      <td>0.617714</td>\n",
       "      <td>0.609756</td>\n",
       "      <td>0.859442</td>\n",
       "      <td>0.520992</td>\n",
       "      <td>0.447917</td>\n",
       "    </tr>\n",
       "    <tr>\n",
       "      <th>...</th>\n",
       "      <td>...</td>\n",
       "      <td>...</td>\n",
       "      <td>...</td>\n",
       "      <td>...</td>\n",
       "      <td>...</td>\n",
       "    </tr>\n",
       "    <tr>\n",
       "      <th>643</th>\n",
       "      <td>0.719228</td>\n",
       "      <td>0.774059</td>\n",
       "      <td>0.417477</td>\n",
       "      <td>0.114790</td>\n",
       "      <td>0.741667</td>\n",
       "    </tr>\n",
       "    <tr>\n",
       "      <th>657</th>\n",
       "      <td>0.741695</td>\n",
       "      <td>0.665272</td>\n",
       "      <td>0.717312</td>\n",
       "      <td>0.501104</td>\n",
       "      <td>0.491667</td>\n",
       "    </tr>\n",
       "    <tr>\n",
       "      <th>671</th>\n",
       "      <td>0.175623</td>\n",
       "      <td>0.000000</td>\n",
       "      <td>0.000000</td>\n",
       "      <td>0.666667</td>\n",
       "      <td>0.008333</td>\n",
       "    </tr>\n",
       "    <tr>\n",
       "      <th>685</th>\n",
       "      <td>0.444383</td>\n",
       "      <td>0.426778</td>\n",
       "      <td>0.226448</td>\n",
       "      <td>0.260486</td>\n",
       "      <td>0.200000</td>\n",
       "    </tr>\n",
       "    <tr>\n",
       "      <th>699</th>\n",
       "      <td>0.400650</td>\n",
       "      <td>0.334728</td>\n",
       "      <td>0.156281</td>\n",
       "      <td>0.326711</td>\n",
       "      <td>0.175000</td>\n",
       "    </tr>\n",
       "  </tbody>\n",
       "</table>\n",
       "<p>700 rows × 5 columns</p>\n",
       "</div>"
      ],
      "text/plain": [
       "     median_household_income  bachelors_education_rate  house_price_index  \\\n",
       "0                   0.096598                  0.224390           0.181468   \n",
       "14                  0.650693                  0.507317           0.163865   \n",
       "28                  0.357806                  0.439024           0.435733   \n",
       "42                  0.069734                  0.082927           0.110965   \n",
       "56                  0.617714                  0.609756           0.859442   \n",
       "..                       ...                       ...                ...   \n",
       "643                 0.719228                  0.774059           0.417477   \n",
       "657                 0.741695                  0.665272           0.717312   \n",
       "671                 0.175623                  0.000000           0.000000   \n",
       "685                 0.444383                  0.426778           0.226448   \n",
       "699                 0.400650                  0.334728           0.156281   \n",
       "\n",
       "     unemployment_rate  graduate_education_rate  \n",
       "0             0.326336                 0.166667  \n",
       "14            0.912214                 0.354167  \n",
       "28            0.362595                 0.322917  \n",
       "42            0.580153                 0.010417  \n",
       "56            0.520992                 0.447917  \n",
       "..                 ...                      ...  \n",
       "643           0.114790                 0.741667  \n",
       "657           0.501104                 0.491667  \n",
       "671           0.666667                 0.008333  \n",
       "685           0.260486                 0.200000  \n",
       "699           0.326711                 0.175000  \n",
       "\n",
       "[700 rows x 5 columns]"
      ]
     },
     "execution_count": 65,
     "metadata": {},
     "output_type": "execute_result"
    }
   ],
   "source": [
    "pd.concat(year_normalized_data)"
   ]
  },
  {
   "cell_type": "code",
   "execution_count": null,
   "metadata": {},
   "outputs": [],
   "source": []
  }
 ],
 "metadata": {
  "kernelspec": {
   "display_name": "Python 3",
   "language": "python",
   "name": "python3"
  },
  "language_info": {
   "codemirror_mode": {
    "name": "ipython",
    "version": 3
   },
   "file_extension": ".py",
   "mimetype": "text/x-python",
   "name": "python",
   "nbconvert_exporter": "python",
   "pygments_lexer": "ipython3",
   "version": "3.8.5"
  }
 },
 "nbformat": 4,
 "nbformat_minor": 4
}
