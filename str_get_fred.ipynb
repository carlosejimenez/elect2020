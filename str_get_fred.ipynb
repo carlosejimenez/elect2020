{
 "cells": [
  {
   "cell_type": "code",
   "execution_count": 1,
   "metadata": {},
   "outputs": [],
   "source": [
    "import json\n",
    "import pandas as pd\n",
    "from us import states\n",
    "from collections import defaultdict\n",
    "import numpy as np\n",
    "from fredapi import Fred\n",
    "keys = json.load(open('api_keys.json'))\n",
    "from utils import get_state_yearly_aggregate_str"
   ]
  },
  {
   "cell_type": "code",
   "execution_count": 2,
   "metadata": {},
   "outputs": [],
   "source": [
    "fred = Fred(api_key=keys['fred'])"
   ]
  },
  {
   "cell_type": "code",
   "execution_count": 3,
   "metadata": {},
   "outputs": [],
   "source": [
    "all_codes = {\n",
    "    'graduate_education_rate': 'GCT1503'\n",
    "    \n",
    "}"
   ]
  },
  {
   "cell_type": "code",
   "execution_count": 7,
   "metadata": {},
   "outputs": [
    {
     "name": "stdout",
     "output_type": "stream",
     "text": [
      "GCT1503AL\n",
      "GCT1503AK\n",
      "GCT1503AZ\n",
      "GCT1503AR\n",
      "GCT1503CA\n",
      "GCT1503CO\n",
      "GCT1503CT\n",
      "GCT1503DE\n",
      "GCT1503FL\n",
      "GCT1503GA\n",
      "GCT1503HI\n",
      "GCT1503ID\n",
      "GCT1503IL\n",
      "GCT1503IN\n",
      "GCT1503IA\n",
      "GCT1503KS\n",
      "GCT1503KY\n",
      "GCT1503LA\n",
      "GCT1503ME\n",
      "GCT1503MD\n",
      "GCT1503MA\n",
      "GCT1503MI\n",
      "GCT1503MN\n",
      "GCT1503MS\n",
      "GCT1503MO\n",
      "GCT1503MT\n",
      "GCT1503NE\n",
      "GCT1503NV\n",
      "GCT1503NH\n",
      "GCT1503NJ\n",
      "GCT1503NM\n",
      "GCT1503NY\n",
      "GCT1503NC\n",
      "GCT1503ND\n",
      "GCT1503OH\n",
      "GCT1503OK\n",
      "GCT1503OR\n",
      "GCT1503PA\n",
      "GCT1503RI\n",
      "GCT1503SC\n",
      "GCT1503SD\n",
      "GCT1503TN\n",
      "GCT1503TX\n",
      "GCT1503UT\n",
      "GCT1503VT\n",
      "GCT1503VA\n",
      "GCT1503WA\n",
      "GCT1503WV\n",
      "GCT1503WI\n",
      "GCT1503WY\n"
     ]
    }
   ],
   "source": [
    "all_states = []\n",
    "var_name = 'graduate_education_rate'\n",
    "for state in states.STATES:\n",
    "    code = f'{all_codes[var_name]}{state.abbr}'\n",
    "    for (year, rate) in get_state_yearly_aggregate_str(fred, code):\n",
    "        all_states.append([state.abbr, year, rate])\n",
    "all_states_df = pd.DataFrame(all_states, columns=['state_po', 'year', var_name])"
   ]
  },
  {
   "cell_type": "code",
   "execution_count": 8,
   "metadata": {},
   "outputs": [
    {
     "data": {
      "text/html": [
       "<div>\n",
       "<style scoped>\n",
       "    .dataframe tbody tr th:only-of-type {\n",
       "        vertical-align: middle;\n",
       "    }\n",
       "\n",
       "    .dataframe tbody tr th {\n",
       "        vertical-align: top;\n",
       "    }\n",
       "\n",
       "    .dataframe thead th {\n",
       "        text-align: right;\n",
       "    }\n",
       "</style>\n",
       "<table border=\"1\" class=\"dataframe\">\n",
       "  <thead>\n",
       "    <tr style=\"text-align: right;\">\n",
       "      <th></th>\n",
       "      <th>state_po</th>\n",
       "      <th>year</th>\n",
       "      <th>graduate_education_rate</th>\n",
       "    </tr>\n",
       "  </thead>\n",
       "  <tbody>\n",
       "    <tr>\n",
       "      <th>0</th>\n",
       "      <td>AL</td>\n",
       "      <td>2006</td>\n",
       "      <td>0.077</td>\n",
       "    </tr>\n",
       "    <tr>\n",
       "      <th>1</th>\n",
       "      <td>AL</td>\n",
       "      <td>2007</td>\n",
       "      <td>0.080</td>\n",
       "    </tr>\n",
       "    <tr>\n",
       "      <th>2</th>\n",
       "      <td>AL</td>\n",
       "      <td>2008</td>\n",
       "      <td>0.077</td>\n",
       "    </tr>\n",
       "    <tr>\n",
       "      <th>3</th>\n",
       "      <td>AL</td>\n",
       "      <td>2009</td>\n",
       "      <td>0.077</td>\n",
       "    </tr>\n",
       "    <tr>\n",
       "      <th>4</th>\n",
       "      <td>AL</td>\n",
       "      <td>2010</td>\n",
       "      <td>0.080</td>\n",
       "    </tr>\n",
       "    <tr>\n",
       "      <th>...</th>\n",
       "      <td>...</td>\n",
       "      <td>...</td>\n",
       "      <td>...</td>\n",
       "    </tr>\n",
       "    <tr>\n",
       "      <th>695</th>\n",
       "      <td>WY</td>\n",
       "      <td>2015</td>\n",
       "      <td>0.090</td>\n",
       "    </tr>\n",
       "    <tr>\n",
       "      <th>696</th>\n",
       "      <td>WY</td>\n",
       "      <td>2016</td>\n",
       "      <td>0.097</td>\n",
       "    </tr>\n",
       "    <tr>\n",
       "      <th>697</th>\n",
       "      <td>WY</td>\n",
       "      <td>2017</td>\n",
       "      <td>0.103</td>\n",
       "    </tr>\n",
       "    <tr>\n",
       "      <th>698</th>\n",
       "      <td>WY</td>\n",
       "      <td>2018</td>\n",
       "      <td>0.100</td>\n",
       "    </tr>\n",
       "    <tr>\n",
       "      <th>699</th>\n",
       "      <td>WY</td>\n",
       "      <td>2019</td>\n",
       "      <td>0.104</td>\n",
       "    </tr>\n",
       "  </tbody>\n",
       "</table>\n",
       "<p>700 rows × 3 columns</p>\n",
       "</div>"
      ],
      "text/plain": [
       "    state_po  year  graduate_education_rate\n",
       "0         AL  2006                    0.077\n",
       "1         AL  2007                    0.080\n",
       "2         AL  2008                    0.077\n",
       "3         AL  2009                    0.077\n",
       "4         AL  2010                    0.080\n",
       "..       ...   ...                      ...\n",
       "695       WY  2015                    0.090\n",
       "696       WY  2016                    0.097\n",
       "697       WY  2017                    0.103\n",
       "698       WY  2018                    0.100\n",
       "699       WY  2019                    0.104\n",
       "\n",
       "[700 rows x 3 columns]"
      ]
     },
     "execution_count": 8,
     "metadata": {},
     "output_type": "execute_result"
    }
   ],
   "source": [
    "all_states_df"
   ]
  },
  {
   "cell_type": "code",
   "execution_count": 9,
   "metadata": {},
   "outputs": [],
   "source": [
    "min_year = all_states_df['year'].min()\n",
    "max_year = all_states_df['year'].max()"
   ]
  },
  {
   "cell_type": "code",
   "execution_count": 10,
   "metadata": {},
   "outputs": [
    {
     "name": "stdout",
     "output_type": "stream",
     "text": [
      "./pop_data/2006-2019-states-graduate-education-rate.csv\n"
     ]
    }
   ],
   "source": [
    "data_dir = './pop_data'\n",
    "filename = f'{data_dir}/{min_year}-{max_year}-states-{\"-\".join(var_name.split(\"_\"))}.csv'\n",
    "print(filename)"
   ]
  },
  {
   "cell_type": "code",
   "execution_count": 11,
   "metadata": {},
   "outputs": [],
   "source": [
    "all_states_df.to_csv(open(filename, 'w+'), index=False)"
   ]
  },
  {
   "cell_type": "code",
   "execution_count": null,
   "metadata": {},
   "outputs": [],
   "source": []
  }
 ],
 "metadata": {
  "kernelspec": {
   "display_name": "Python 3",
   "language": "python",
   "name": "python3"
  },
  "language_info": {
   "codemirror_mode": {
    "name": "ipython",
    "version": 3
   },
   "file_extension": ".py",
   "mimetype": "text/x-python",
   "name": "python",
   "nbconvert_exporter": "python",
   "pygments_lexer": "ipython3",
   "version": "3.8.5"
  }
 },
 "nbformat": 4,
 "nbformat_minor": 4
}
