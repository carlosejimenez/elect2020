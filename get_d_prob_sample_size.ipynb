{
 "cells": [
  {
   "cell_type": "code",
   "execution_count": 46,
   "metadata": {},
   "outputs": [],
   "source": [
    "import pandas as pd\n",
    "import numpy as np\n",
    "import plotly.express as px\n",
    "from collections import defaultdict\n",
    "from math import exp\n",
    "from utils import get_names2abbrs_dict, get_samples"
   ]
  },
  {
   "cell_type": "code",
   "execution_count": 47,
   "metadata": {},
   "outputs": [],
   "source": [
    "start_date = '2020-05-01'\n",
    "end_date = '2020-10-31'"
   ]
  },
  {
   "cell_type": "code",
   "execution_count": 48,
   "metadata": {},
   "outputs": [],
   "source": [
    "battleground_df = pd.read_csv('pop_data/2016_pres_labels_battleground.csv')[['state_po', 'battleground']]"
   ]
  },
  {
   "cell_type": "code",
   "execution_count": 49,
   "metadata": {},
   "outputs": [],
   "source": [
    "battleground_states = battleground_df.set_index('state_po').to_dict()['battleground']"
   ]
  },
  {
   "cell_type": "code",
   "execution_count": 50,
   "metadata": {},
   "outputs": [],
   "source": [
    "d_probs = pd.read_csv('poll_data/all_pres_polls_d_probs.csv')"
   ]
  },
  {
   "cell_type": "code",
   "execution_count": 51,
   "metadata": {},
   "outputs": [],
   "source": [
    "state_polls = get_samples(d_probs, start_date, end_date)\n",
    "all_state_pos = list(sorted(state_polls))"
   ]
  },
  {
   "cell_type": "code",
   "execution_count": 52,
   "metadata": {},
   "outputs": [],
   "source": [
    "state_populations = pd.read_csv('pop_data/1900-2019-all-states-populations.csv')\n",
    "current_populations = state_populations[state_populations['year'] == 2019].set_index('state_po').to_dict()['population']"
   ]
  },
  {
   "cell_type": "code",
   "execution_count": 53,
   "metadata": {},
   "outputs": [],
   "source": [
    "def apply_poll_func(poll_func):\n",
    "    polls = pd.DataFrame([(po, poll_func(po), battleground_states[po]) for po in all_state_pos],\n",
    "                         columns=['state_po', 'samples', 'battleground']).sort_values(by=['battleground', 'state_po'])\n",
    "    return polls"
   ]
  },
  {
   "cell_type": "code",
   "execution_count": 67,
   "metadata": {},
   "outputs": [],
   "source": [
    "poll_funcs = {\n",
    "    'sum': lambda po: sum(state_polls[po]),\n",
    "    'mean': lambda po: np.mean(state_polls[po]),\n",
    "    'number': lambda po: len(state_polls[po]),\n",
    "    'sum_pop_adj': lambda po: 1000 * sum(state_polls[po]) / current_populations[po],\n",
    "    'mean_pop_adj': lambda po: 1000 * np.mean(state_polls[po]) / current_populations[po],\n",
    "    'number_pop_adj': lambda po: 1000 * len(state_polls[po]) / current_populations[po],\n",
    "}\n",
    "y_axes = {\n",
    "    'sum': f'Cumulative Sample',\n",
    "    'mean': f'Mean Sample Size',\n",
    "    'number': f'Number of Polls',\n",
    "    'sum_pop_adj': f'Cumulative Sample Per 1k Population',\n",
    "    'mean_pop_adj': f'Mean Sample Size Per 1k Population',\n",
    "    'number_pop_adj': f'Number of Polls Per 1k Population',\n",
    "}"
   ]
  },
  {
   "cell_type": "code",
   "execution_count": 69,
   "metadata": {},
   "outputs": [
    {
     "name": "stdout",
     "output_type": "stream",
     "text": [
      "Wrote to aggregate_polling_2020-05-01_-_2020-10-31_cumulative_sample\n",
      "Wrote to aggregate_polling_2020-05-01_-_2020-10-31_mean_sample_size\n",
      "Wrote to aggregate_polling_2020-05-01_-_2020-10-31_number_of_polls\n",
      "Wrote to aggregate_polling_2020-05-01_-_2020-10-31_cumulative_sample_per_1k_population\n",
      "Wrote to aggregate_polling_2020-05-01_-_2020-10-31_mean_sample_size_per_1k_population\n",
      "Wrote to aggregate_polling_2020-05-01_-_2020-10-31_number_of_polls_per_1k_population\n"
     ]
    }
   ],
   "source": [
    "prefix = f'Aggregate Polling ({start_date} - {end_date}) '\n",
    "for name, func in poll_funcs.items():\n",
    "    title = prefix + y_axes[name]\n",
    "    df = apply_poll_func(func)\n",
    "    fig = px.bar(df, x='state_po', y='samples', color='battleground',\n",
    "             labels={'samples':y_axes[name], 'state_po': 'State'}, \n",
    "             title=title)\n",
    "    filename = '_'.join(title.lower().replace('(', '').replace(')', '').split())\n",
    "    fig.update_layout(\n",
    "        autosize=False,\n",
    "        width=1000,\n",
    "        height=500,)\n",
    "#     fig.show()\n",
    "    fig.write_image('figures/' + filename + '.png')\n",
    "    df.to_csv(f'figures/data/{filename}.csv', index=False)\n",
    "    print(f'Wrote to {filename}')"
   ]
  },
  {
   "cell_type": "code",
   "execution_count": null,
   "metadata": {},
   "outputs": [],
   "source": []
  }
 ],
 "metadata": {
  "kernelspec": {
   "display_name": "Python 3",
   "language": "python",
   "name": "python3"
  },
  "language_info": {
   "codemirror_mode": {
    "name": "ipython",
    "version": 3
   },
   "file_extension": ".py",
   "mimetype": "text/x-python",
   "name": "python",
   "nbconvert_exporter": "python",
   "pygments_lexer": "ipython3",
   "version": "3.8.5"
  }
 },
 "nbformat": 4,
 "nbformat_minor": 4
}
