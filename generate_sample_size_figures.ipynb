{
 "cells": [
  {
   "cell_type": "code",
   "execution_count": 2,
   "metadata": {},
   "outputs": [],
   "source": [
    "import pandas as pd\n",
    "import numpy as np\n",
    "import plotly.express as px\n",
    "from collections import defaultdict\n",
    "from math import exp\n",
    "from utils import get_names2abbrs_dict, get_samples"
   ]
  },
  {
   "cell_type": "code",
   "execution_count": 3,
   "metadata": {},
   "outputs": [],
   "source": [
    "start_date = '2020-05-01'\n",
    "end_date = '2020-10-31'"
   ]
  },
  {
   "cell_type": "code",
   "execution_count": 4,
   "metadata": {},
   "outputs": [],
   "source": [
    "battleground_df = pd.read_csv('label_data/2016_pres_labels_battleground.csv')[['state_po', 'battleground']]"
   ]
  },
  {
   "cell_type": "code",
   "execution_count": 5,
   "metadata": {},
   "outputs": [],
   "source": [
    "battleground_states = battleground_df.set_index('state_po').to_dict()['battleground']"
   ]
  },
  {
   "cell_type": "code",
   "execution_count": 6,
   "metadata": {},
   "outputs": [],
   "source": [
    "d_probs = pd.read_csv('poll_data/all_pres_polls_d_probs.csv')"
   ]
  },
  {
   "cell_type": "code",
   "execution_count": 7,
   "metadata": {},
   "outputs": [],
   "source": [
    "state_polls = get_samples(d_probs, start_date, end_date)\n",
    "all_state_pos = list(sorted(state_polls))"
   ]
  },
  {
   "cell_type": "code",
   "execution_count": 8,
   "metadata": {},
   "outputs": [],
   "source": [
    "state_populations = pd.read_csv('population_data/1900-2019-all-states-populations.csv')\n",
    "current_populations = state_populations[state_populations['year'] == 2019].set_index('state_po').to_dict()['population']"
   ]
  },
  {
   "cell_type": "code",
   "execution_count": 9,
   "metadata": {},
   "outputs": [],
   "source": [
    "def apply_poll_func(poll_func):\n",
    "    polls = pd.DataFrame([(po, poll_func(po), battleground_states[po]) for po in all_state_pos],\n",
    "                         columns=['state_po', 'samples', 'battleground']).sort_values(by=['battleground', 'state_po'])\n",
    "    return polls"
   ]
  },
  {
   "cell_type": "code",
   "execution_count": 10,
   "metadata": {},
   "outputs": [],
   "source": [
    "poll_funcs = {\n",
    "    'sum': lambda po: sum(state_polls[po]),\n",
    "    'mean': lambda po: np.mean(state_polls[po]),\n",
    "    'number': lambda po: len(state_polls[po]),\n",
    "    'sum_pop_adj': lambda po: 1000 * sum(state_polls[po]) / current_populations[po],\n",
    "    'mean_pop_adj': lambda po: 1000 * np.mean(state_polls[po]) / current_populations[po],\n",
    "    'number_pop_adj': lambda po: 1000 * len(state_polls[po]) / current_populations[po],\n",
    "}\n",
    "y_axes = {\n",
    "    'sum': f'Cumulative Sample',\n",
    "    'mean': f'Mean Sample Size',\n",
    "    'number': f'Number of Polls',\n",
    "    'sum_pop_adj': f'Cumulative Sample Per 1k Population',\n",
    "    'mean_pop_adj': f'Mean Sample Size Per 1k Population',\n",
    "    'number_pop_adj': f'Number of Polls Per 1k Population',\n",
    "}"
   ]
  },
  {
   "cell_type": "code",
   "execution_count": 14,
   "metadata": {},
   "outputs": [
    {
     "name": "stdout",
     "output_type": "stream",
     "text": [
      "\\begin{table}\n",
      "\\centering\n",
      "\\caption{Aggregate Polling (2020-05-01 - 2020-10-31) Cumulative Sample}\n",
      "\\label{table:aggregate\\_polling\\_2020-05-01\\_-\\_2020-10-31\\_cumulative\\_sample}\n",
      "\\begin{tabular}{lr}\n",
      "\\toprule\n",
      " battleground &        samples \\\\\n",
      "\\midrule\n",
      "        False &  156638.444444 \\\\\n",
      "         True &  269452.800000 \\\\\n",
      "\\bottomrule\n",
      "\\end{tabular}\n",
      "\\end{table}\n",
      "\n",
      "Wrote to aggregate_polling_2020-05-01_-_2020-10-31_cumulative_sample\n",
      "\\begin{table}\n",
      "\\centering\n",
      "\\caption{Aggregate Polling (2020-05-01 - 2020-10-31) Mean Sample Size}\n",
      "\\label{table:aggregate\\_polling\\_2020-05-01\\_-\\_2020-10-31\\_mean\\_sample\\_size}\n",
      "\\begin{tabular}{lr}\n",
      "\\toprule\n",
      " battleground &      samples \\\\\n",
      "\\midrule\n",
      "        False &  2835.778209 \\\\\n",
      "         True &  2659.970856 \\\\\n",
      "\\bottomrule\n",
      "\\end{tabular}\n",
      "\\end{table}\n",
      "\n",
      "Wrote to aggregate_polling_2020-05-01_-_2020-10-31_mean_sample_size\n",
      "\\begin{table}\n",
      "\\centering\n",
      "\\caption{Aggregate Polling (2020-05-01 - 2020-10-31) Number of Polls}\n",
      "\\label{table:aggregate\\_polling\\_2020-05-01\\_-\\_2020-10-31\\_number\\_of\\_polls}\n",
      "\\begin{tabular}{lr}\n",
      "\\toprule\n",
      " battleground &     samples \\\\\n",
      "\\midrule\n",
      "        False &   52.666667 \\\\\n",
      "         True &  102.533333 \\\\\n",
      "\\bottomrule\n",
      "\\end{tabular}\n",
      "\\end{table}\n",
      "\n",
      "Wrote to aggregate_polling_2020-05-01_-_2020-10-31_number_of_polls\n",
      "\\begin{table}\n",
      "\\centering\n",
      "\\caption{Aggregate Polling (2020-05-01 - 2020-10-31) Cumulative Sample Per 1k Population}\n",
      "\\label{table:aggregate\\_polling\\_2020-05-01\\_-\\_2020-10-31\\_cumulative\\_sample\\_per\\_1k\\_population}\n",
      "\\begin{tabular}{lr}\n",
      "\\toprule\n",
      " battleground &    samples \\\\\n",
      "\\midrule\n",
      "        False &  32.099566 \\\\\n",
      "         True &  38.040179 \\\\\n",
      "\\bottomrule\n",
      "\\end{tabular}\n",
      "\\end{table}\n",
      "\n",
      "Wrote to aggregate_polling_2020-05-01_-_2020-10-31_cumulative_sample_per_1k_population\n",
      "\\begin{table}\n",
      "\\centering\n",
      "\\caption{Aggregate Polling (2020-05-01 - 2020-10-31) Mean Sample Size Per 1k Population}\n",
      "\\label{table:aggregate\\_polling\\_2020-05-01\\_-\\_2020-10-31\\_mean\\_sample\\_size\\_per\\_1k\\_population}\n",
      "\\begin{tabular}{lr}\n",
      "\\toprule\n",
      " battleground &   samples \\\\\n",
      "\\midrule\n",
      "        False &  0.621980 \\\\\n",
      "         True &  0.451055 \\\\\n",
      "\\bottomrule\n",
      "\\end{tabular}\n",
      "\\end{table}\n",
      "\n",
      "Wrote to aggregate_polling_2020-05-01_-_2020-10-31_mean_sample_size_per_1k_population\n",
      "\\begin{table}\n",
      "\\centering\n",
      "\\caption{Aggregate Polling (2020-05-01 - 2020-10-31) Number of Polls Per 1k Population}\n",
      "\\label{table:aggregate\\_polling\\_2020-05-01\\_-\\_2020-10-31\\_number\\_of\\_polls\\_per\\_1k\\_population}\n",
      "\\begin{tabular}{lr}\n",
      "\\toprule\n",
      " battleground &   samples \\\\\n",
      "\\midrule\n",
      "        False &  0.025300 \\\\\n",
      "         True &  0.019624 \\\\\n",
      "\\bottomrule\n",
      "\\end{tabular}\n",
      "\\end{table}\n",
      "\n",
      "Wrote to aggregate_polling_2020-05-01_-_2020-10-31_number_of_polls_per_1k_population\n"
     ]
    }
   ],
   "source": [
    "prefix = f'Aggregate Polling ({start_date} - {end_date}) '\n",
    "for name, func in poll_funcs.items():\n",
    "    title = prefix + y_axes[name]\n",
    "    df = apply_poll_func(func)\n",
    "    fig = px.bar(df, x='state_po', y='samples', color='battleground',\n",
    "             labels={'samples':y_axes[name], 'state_po': 'State'}, \n",
    "             title=title)\n",
    "    filename = '_'.join(title.lower().replace('(', '').replace(')', '').split())\n",
    "    fig.update_layout(\n",
    "        autosize=False,\n",
    "        width=1000,\n",
    "        height=500,)\n",
    "#     fig.show()\n",
    "    fig.write_image('figures/' + filename + '.png')\n",
    "    df.to_csv(f'figures/data/{filename}.csv', index=False)\n",
    "    print(df.groupby('battleground', as_index=False).mean().to_latex(index=False, caption=title, label='table:' + filename.replace(\"_\", \"\\_\")))\n",
    "    print(f'Wrote to {filename}')"
   ]
  },
  {
   "cell_type": "code",
   "execution_count": null,
   "metadata": {},
   "outputs": [],
   "source": []
  },
  {
   "cell_type": "code",
   "execution_count": null,
   "metadata": {},
   "outputs": [],
   "source": []
  }
 ],
 "metadata": {
  "kernelspec": {
   "display_name": "Python 3",
   "language": "python",
   "name": "python3"
  },
  "language_info": {
   "codemirror_mode": {
    "name": "ipython",
    "version": 3
   },
   "file_extension": ".py",
   "mimetype": "text/x-python",
   "name": "python",
   "nbconvert_exporter": "python",
   "pygments_lexer": "ipython3",
   "version": "3.8.5"
  },
  "pycharm": {
   "stem_cell": {
    "cell_type": "raw",
    "metadata": {
     "collapsed": false
    },
    "source": []
   }
  }
 },
 "nbformat": 4,
 "nbformat_minor": 4
}
