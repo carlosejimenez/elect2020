{
 "cells": [
  {
   "cell_type": "code",
   "execution_count": 1,
   "metadata": {},
   "outputs": [],
   "source": [
    "import json\n",
    "import pandas as pd\n",
    "from us import states\n",
    "from collections import defaultdict\n",
    "import numpy as np\n",
    "from fredapi import Fred\n",
    "keys = json.load(open('api_keys.json'))\n",
    "from utils import get_state_yearly_aggregate"
   ]
  },
  {
   "cell_type": "code",
   "execution_count": 2,
   "metadata": {},
   "outputs": [],
   "source": [
    "fred = Fred(api_key=keys['fred'])"
   ]
  },
  {
   "cell_type": "code",
   "execution_count": 5,
   "metadata": {},
   "outputs": [],
   "source": [
    "all_codes = {\n",
    "    'house_price_index': 'STHPI',\n",
    "    'unemployment_rate': 'UR',\n",
    "    'population': 'POP',\n",
    "    'leading_index': 'SLIND',\n",
    "    'rental_vacancy': 'RVAC',\n",
    "    'home_ownership_rate': 'HOWN',\n",
    "    \n",
    "}"
   ]
  },
  {
   "cell_type": "code",
   "execution_count": 6,
   "metadata": {},
   "outputs": [
    {
     "name": "stdout",
     "output_type": "stream",
     "text": [
      "ALSLIND\n",
      "AKSLIND\n",
      "AZSLIND\n",
      "ARSLIND\n",
      "CASLIND\n",
      "COSLIND\n",
      "CTSLIND\n",
      "DESLIND\n",
      "FLSLIND\n",
      "GASLIND\n",
      "HISLIND\n",
      "IDSLIND\n",
      "ILSLIND\n",
      "INSLIND\n",
      "IASLIND\n",
      "KSSLIND\n",
      "KYSLIND\n",
      "LASLIND\n",
      "MESLIND\n",
      "MDSLIND\n",
      "MASLIND\n",
      "MISLIND\n",
      "MNSLIND\n",
      "MSSLIND\n",
      "MOSLIND\n",
      "MTSLIND\n",
      "NESLIND\n",
      "NVSLIND\n",
      "NHSLIND\n",
      "NJSLIND\n",
      "NMSLIND\n",
      "NYSLIND\n",
      "NCSLIND\n",
      "NDSLIND\n",
      "OHSLIND\n",
      "OKSLIND\n",
      "ORSLIND\n",
      "PASLIND\n",
      "RISLIND\n",
      "SCSLIND\n",
      "SDSLIND\n",
      "TNSLIND\n",
      "TXSLIND\n",
      "UTSLIND\n",
      "VTSLIND\n",
      "VASLIND\n",
      "WASLIND\n",
      "WVSLIND\n",
      "WISLIND\n",
      "WYSLIND\n"
     ]
    }
   ],
   "source": [
    "all_states = []\n",
    "var_name = 'leading_index'\n",
    "for state in states.STATES:\n",
    "    for (year, rate) in get_state_yearly_aggregate(fred, state, all_codes[var_name]):\n",
    "        all_states.append([state.abbr, year, rate])\n",
    "all_states_df = pd.DataFrame(all_states, columns=['state_po', 'year', var_name])"
   ]
  },
  {
   "cell_type": "code",
   "execution_count": 7,
   "metadata": {},
   "outputs": [
    {
     "data": {
      "text/html": [
       "<div>\n",
       "<style scoped>\n",
       "    .dataframe tbody tr th:only-of-type {\n",
       "        vertical-align: middle;\n",
       "    }\n",
       "\n",
       "    .dataframe tbody tr th {\n",
       "        vertical-align: top;\n",
       "    }\n",
       "\n",
       "    .dataframe thead th {\n",
       "        text-align: right;\n",
       "    }\n",
       "</style>\n",
       "<table border=\"1\" class=\"dataframe\">\n",
       "  <thead>\n",
       "    <tr style=\"text-align: right;\">\n",
       "      <th></th>\n",
       "      <th>state_po</th>\n",
       "      <th>year</th>\n",
       "      <th>leading_index</th>\n",
       "    </tr>\n",
       "  </thead>\n",
       "  <tbody>\n",
       "    <tr>\n",
       "      <th>0</th>\n",
       "      <td>AL</td>\n",
       "      <td>1982</td>\n",
       "      <td>-0.945833</td>\n",
       "    </tr>\n",
       "    <tr>\n",
       "      <th>1</th>\n",
       "      <td>AL</td>\n",
       "      <td>1983</td>\n",
       "      <td>3.955833</td>\n",
       "    </tr>\n",
       "    <tr>\n",
       "      <th>2</th>\n",
       "      <td>AL</td>\n",
       "      <td>1984</td>\n",
       "      <td>2.710833</td>\n",
       "    </tr>\n",
       "    <tr>\n",
       "      <th>3</th>\n",
       "      <td>AL</td>\n",
       "      <td>1985</td>\n",
       "      <td>1.696667</td>\n",
       "    </tr>\n",
       "    <tr>\n",
       "      <th>4</th>\n",
       "      <td>AL</td>\n",
       "      <td>1986</td>\n",
       "      <td>0.840000</td>\n",
       "    </tr>\n",
       "    <tr>\n",
       "      <th>...</th>\n",
       "      <td>...</td>\n",
       "      <td>...</td>\n",
       "      <td>...</td>\n",
       "    </tr>\n",
       "    <tr>\n",
       "      <th>1945</th>\n",
       "      <td>WY</td>\n",
       "      <td>2016</td>\n",
       "      <td>0.803333</td>\n",
       "    </tr>\n",
       "    <tr>\n",
       "      <th>1946</th>\n",
       "      <td>WY</td>\n",
       "      <td>2017</td>\n",
       "      <td>1.820833</td>\n",
       "    </tr>\n",
       "    <tr>\n",
       "      <th>1947</th>\n",
       "      <td>WY</td>\n",
       "      <td>2018</td>\n",
       "      <td>1.819167</td>\n",
       "    </tr>\n",
       "    <tr>\n",
       "      <th>1948</th>\n",
       "      <td>WY</td>\n",
       "      <td>2019</td>\n",
       "      <td>0.983333</td>\n",
       "    </tr>\n",
       "    <tr>\n",
       "      <th>1949</th>\n",
       "      <td>WY</td>\n",
       "      <td>2020</td>\n",
       "      <td>0.980000</td>\n",
       "    </tr>\n",
       "  </tbody>\n",
       "</table>\n",
       "<p>1950 rows × 3 columns</p>\n",
       "</div>"
      ],
      "text/plain": [
       "     state_po  year  leading_index\n",
       "0          AL  1982      -0.945833\n",
       "1          AL  1983       3.955833\n",
       "2          AL  1984       2.710833\n",
       "3          AL  1985       1.696667\n",
       "4          AL  1986       0.840000\n",
       "...       ...   ...            ...\n",
       "1945       WY  2016       0.803333\n",
       "1946       WY  2017       1.820833\n",
       "1947       WY  2018       1.819167\n",
       "1948       WY  2019       0.983333\n",
       "1949       WY  2020       0.980000\n",
       "\n",
       "[1950 rows x 3 columns]"
      ]
     },
     "execution_count": 7,
     "metadata": {},
     "output_type": "execute_result"
    }
   ],
   "source": [
    "all_states_df"
   ]
  },
  {
   "cell_type": "code",
   "execution_count": 8,
   "metadata": {},
   "outputs": [],
   "source": [
    "min_year = all_states_df['year'].min()\n",
    "max_year = all_states_df['year'].max()"
   ]
  },
  {
   "cell_type": "code",
   "execution_count": 10,
   "metadata": {},
   "outputs": [
    {
     "name": "stdout",
     "output_type": "stream",
     "text": [
      "./pop_data/1982-2020-states-leading-index.csv\n"
     ]
    }
   ],
   "source": [
    "data_dir = './pop_data'\n",
    "filename = f'{data_dir}/{min_year}-{max_year}-states-{\"-\".join(var_name.split(\"_\"))}.csv'\n",
    "print(filename)"
   ]
  },
  {
   "cell_type": "code",
   "execution_count": 11,
   "metadata": {},
   "outputs": [],
   "source": [
    "all_states_df.to_csv(open(filename, 'w+'))"
   ]
  },
  {
   "cell_type": "code",
   "execution_count": null,
   "metadata": {},
   "outputs": [],
   "source": []
  }
 ],
 "metadata": {
  "kernelspec": {
   "display_name": "Python 3",
   "language": "python",
   "name": "python3"
  },
  "language_info": {
   "codemirror_mode": {
    "name": "ipython",
    "version": 3
   },
   "file_extension": ".py",
   "mimetype": "text/x-python",
   "name": "python",
   "nbconvert_exporter": "python",
   "pygments_lexer": "ipython3",
   "version": "3.8.5"
  }
 },
 "nbformat": 4,
 "nbformat_minor": 4
}
