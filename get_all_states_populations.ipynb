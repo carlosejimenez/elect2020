{
 "cells": [
  {
   "cell_type": "code",
   "execution_count": 136,
   "metadata": {},
   "outputs": [],
   "source": [
    "import json\n",
    "import pandas as pd\n",
    "from us import states\n",
    "import numpy as np\n",
    "from fredapi import Fred\n",
    "keys = json.load(open('api_keys.json'))"
   ]
  },
  {
   "cell_type": "code",
   "execution_count": 103,
   "metadata": {},
   "outputs": [],
   "source": [
    "fred = Fred(api_key=keys['fred'])"
   ]
  },
  {
   "cell_type": "code",
   "execution_count": 142,
   "metadata": {},
   "outputs": [],
   "source": [
    "def get_state_population(state):\n",
    "    data_str = f'{state.abbr}POP'\n",
    "    print(data_str)\n",
    "    popseries = fred.get_series(data_str)\n",
    "    years = list(map(lambda x: int(x.year), popseries.to_dict().keys()))\n",
    "    populations = list(map(lambda x: x * 1000, popseries.to_dict().values()))\n",
    "    return pd.DataFrame(zip(years, populations), columns=['year', 'population'])"
   ]
  },
  {
   "cell_type": "code",
   "execution_count": 143,
   "metadata": {},
   "outputs": [
    {
     "name": "stdout",
     "output_type": "stream",
     "text": [
      "ALPOP\n",
      "AKPOP\n",
      "AZPOP\n",
      "ARPOP\n",
      "CAPOP\n",
      "COPOP\n",
      "CTPOP\n",
      "DEPOP\n",
      "FLPOP\n",
      "GAPOP\n",
      "HIPOP\n",
      "IDPOP\n",
      "ILPOP\n",
      "INPOP\n",
      "IAPOP\n",
      "KSPOP\n",
      "KYPOP\n",
      "LAPOP\n",
      "MEPOP\n",
      "MDPOP\n",
      "MAPOP\n",
      "MIPOP\n",
      "MNPOP\n",
      "MSPOP\n",
      "MOPOP\n",
      "MTPOP\n",
      "NEPOP\n",
      "NVPOP\n",
      "NHPOP\n",
      "NJPOP\n",
      "NMPOP\n",
      "NYPOP\n",
      "NCPOP\n",
      "NDPOP\n",
      "OHPOP\n",
      "OKPOP\n",
      "ORPOP\n",
      "PAPOP\n",
      "RIPOP\n",
      "SCPOP\n",
      "SDPOP\n",
      "TNPOP\n",
      "TXPOP\n",
      "UTPOP\n",
      "VTPOP\n",
      "VAPOP\n",
      "WAPOP\n",
      "WVPOP\n",
      "WIPOP\n",
      "WYPOP\n"
     ]
    }
   ],
   "source": [
    "state_pops = dict()\n",
    "for state in states.STATES:\n",
    "    state_pops[state.abbr] = get_state_population(state)"
   ]
  },
  {
   "cell_type": "code",
   "execution_count": 160,
   "metadata": {},
   "outputs": [],
   "source": [
    "all_states = []\n",
    "for abbr, state in state_pops.items():\n",
    "    for row in state.iterrows():\n",
    "        ix, (year, population) = row\n",
    "        all_states.append([abbr, int(year), population])"
   ]
  },
  {
   "cell_type": "code",
   "execution_count": 164,
   "metadata": {},
   "outputs": [],
   "source": [
    "all_states_df = pd.DataFrame(all_states, columns=['state_po', 'year', 'population'])"
   ]
  },
  {
   "cell_type": "code",
   "execution_count": 165,
   "metadata": {},
   "outputs": [
    {
     "data": {
      "text/html": [
       "<div>\n",
       "<style scoped>\n",
       "    .dataframe tbody tr th:only-of-type {\n",
       "        vertical-align: middle;\n",
       "    }\n",
       "\n",
       "    .dataframe tbody tr th {\n",
       "        vertical-align: top;\n",
       "    }\n",
       "\n",
       "    .dataframe thead th {\n",
       "        text-align: right;\n",
       "    }\n",
       "</style>\n",
       "<table border=\"1\" class=\"dataframe\">\n",
       "  <thead>\n",
       "    <tr style=\"text-align: right;\">\n",
       "      <th></th>\n",
       "      <th>state_po</th>\n",
       "      <th>year</th>\n",
       "      <th>population</th>\n",
       "    </tr>\n",
       "  </thead>\n",
       "  <tbody>\n",
       "    <tr>\n",
       "      <th>0</th>\n",
       "      <td>AL</td>\n",
       "      <td>1900</td>\n",
       "      <td>1830000.0</td>\n",
       "    </tr>\n",
       "    <tr>\n",
       "      <th>1</th>\n",
       "      <td>AL</td>\n",
       "      <td>1901</td>\n",
       "      <td>1907000.0</td>\n",
       "    </tr>\n",
       "    <tr>\n",
       "      <th>2</th>\n",
       "      <td>AL</td>\n",
       "      <td>1902</td>\n",
       "      <td>1935000.0</td>\n",
       "    </tr>\n",
       "    <tr>\n",
       "      <th>3</th>\n",
       "      <td>AL</td>\n",
       "      <td>1903</td>\n",
       "      <td>1957000.0</td>\n",
       "    </tr>\n",
       "    <tr>\n",
       "      <th>4</th>\n",
       "      <td>AL</td>\n",
       "      <td>1904</td>\n",
       "      <td>1978000.0</td>\n",
       "    </tr>\n",
       "    <tr>\n",
       "      <th>...</th>\n",
       "      <td>...</td>\n",
       "      <td>...</td>\n",
       "      <td>...</td>\n",
       "    </tr>\n",
       "    <tr>\n",
       "      <th>5895</th>\n",
       "      <td>WY</td>\n",
       "      <td>2015</td>\n",
       "      <td>585613.0</td>\n",
       "    </tr>\n",
       "    <tr>\n",
       "      <th>5896</th>\n",
       "      <td>WY</td>\n",
       "      <td>2016</td>\n",
       "      <td>584215.0</td>\n",
       "    </tr>\n",
       "    <tr>\n",
       "      <th>5897</th>\n",
       "      <td>WY</td>\n",
       "      <td>2017</td>\n",
       "      <td>578931.0</td>\n",
       "    </tr>\n",
       "    <tr>\n",
       "      <th>5898</th>\n",
       "      <td>WY</td>\n",
       "      <td>2018</td>\n",
       "      <td>577601.0</td>\n",
       "    </tr>\n",
       "    <tr>\n",
       "      <th>5899</th>\n",
       "      <td>WY</td>\n",
       "      <td>2019</td>\n",
       "      <td>578759.0</td>\n",
       "    </tr>\n",
       "  </tbody>\n",
       "</table>\n",
       "<p>5900 rows × 3 columns</p>\n",
       "</div>"
      ],
      "text/plain": [
       "     state_po  year  population\n",
       "0          AL  1900   1830000.0\n",
       "1          AL  1901   1907000.0\n",
       "2          AL  1902   1935000.0\n",
       "3          AL  1903   1957000.0\n",
       "4          AL  1904   1978000.0\n",
       "...       ...   ...         ...\n",
       "5895       WY  2015    585613.0\n",
       "5896       WY  2016    584215.0\n",
       "5897       WY  2017    578931.0\n",
       "5898       WY  2018    577601.0\n",
       "5899       WY  2019    578759.0\n",
       "\n",
       "[5900 rows x 3 columns]"
      ]
     },
     "execution_count": 165,
     "metadata": {},
     "output_type": "execute_result"
    }
   ],
   "source": [
    "all_states_df"
   ]
  },
  {
   "cell_type": "code",
   "execution_count": 166,
   "metadata": {},
   "outputs": [],
   "source": [
    "all_states_df.to_csv(open('./pop_data/1900-2019-all-states-populations.csv', 'w+'), index=False)"
   ]
  },
  {
   "cell_type": "code",
   "execution_count": null,
   "metadata": {},
   "outputs": [],
   "source": []
  }
 ],
 "metadata": {
  "kernelspec": {
   "display_name": "Python 3",
   "language": "python",
   "name": "python3"
  },
  "language_info": {
   "codemirror_mode": {
    "name": "ipython",
    "version": 3
   },
   "file_extension": ".py",
   "mimetype": "text/x-python",
   "name": "python",
   "nbconvert_exporter": "python",
   "pygments_lexer": "ipython3",
   "version": "3.8.5"
  }
 },
 "nbformat": 4,
 "nbformat_minor": 4
}
