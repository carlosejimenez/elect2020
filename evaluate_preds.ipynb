{
 "cells": [
  {
   "cell_type": "code",
   "execution_count": 1,
   "metadata": {},
   "outputs": [],
   "source": [
    "import pandas as pd\n",
    "import numpy as np\n",
    "import plotly.express as px\n",
    "from collections import defaultdict\n",
    "from datetime import date, timedelta\n",
    "from sklearn import metrics\n",
    "from utils import get_state_error_df, get_predictions_df"
   ]
  },
  {
   "cell_type": "code",
   "execution_count": 2,
   "metadata": {},
   "outputs": [],
   "source": [
    "labels = pd.read_csv('election_data/final_results_by_state.csv')\n",
    "battleground_df = pd.read_csv('label_data/2016_pres_labels_battleground.csv')[['state_po', 'battleground']]"
   ]
  },
  {
   "cell_type": "code",
   "execution_count": 3,
   "metadata": {},
   "outputs": [],
   "source": [
    "d_probs = pd.read_csv('poll_data/all_pres_polls_d_probs.csv')"
   ]
  },
  {
   "cell_type": "code",
   "execution_count": 4,
   "metadata": {},
   "outputs": [],
   "source": [
    "start_date = '2020-05-01'\n",
    "end_dates = list(map(lambda day: str((date(2020, 11, 3) - timedelta(day))), [3, 50, 100]))"
   ]
  },
  {
   "cell_type": "code",
   "execution_count": 5,
   "metadata": {},
   "outputs": [],
   "source": [
    "models = {\n",
    "    'logistic_04': {'alpha': 0.4, 'logistic': True},\n",
    "    'lambda_02': {'alpha': 0.2, 'logistic': False},\n",
    "    'lambda_1': {'alpha': 1, 'logistic': False},\n",
    "}"
   ]
  },
  {
   "cell_type": "code",
   "execution_count": 6,
   "metadata": {},
   "outputs": [
    {
     "name": "stdout",
     "output_type": "stream",
     "text": [
      "Wrote logistic_04_2020-05-01-2020-10-31_signed_error to ./figures\n",
      "Wrote logistic_04_2020-05-01-2020-09-14_signed_error to ./figures\n",
      "Wrote logistic_04_2020-05-01-2020-07-26_signed_error to ./figures\n",
      "Wrote lambda_02_2020-05-01-2020-10-31_signed_error to ./figures\n",
      "Wrote lambda_02_2020-05-01-2020-09-14_signed_error to ./figures\n",
      "Wrote lambda_02_2020-05-01-2020-07-26_signed_error to ./figures\n",
      "Wrote lambda_1_2020-05-01-2020-10-31_signed_error to ./figures\n",
      "Wrote lambda_1_2020-05-01-2020-09-14_signed_error to ./figures\n",
      "Wrote lambda_1_2020-05-01-2020-07-26_signed_error to ./figures\n"
     ]
    }
   ],
   "source": [
    "model_errors = list()\n",
    "for model in models:\n",
    "    for end_date in end_dates:\n",
    "        preds = get_predictions_df(d_probs, **models[model], start_date=start_date, end_date=end_date)\n",
    "        model_er = pd.merge(get_state_error_df(labels, preds), battleground_df).sort_values(by=['battleground', 'state_po'])\n",
    "        battleground_err = np.mean(model_er[model_er['battleground']]['error'])\n",
    "        non_battleground_err = np.mean(model_er[~model_er['battleground']]['error'])\n",
    "        model_errors.append((model, end_date, True, battleground_err))\n",
    "        model_errors.append((model, end_date, False, non_battleground_err))\n",
    "        fig = px.bar(model_er, x='state_po', y='error', color='battleground',\n",
    "                     labels={'error': 'Error', 'state_po': 'State'}, \n",
    "                     title=f'Model {model} Signed Error ({start_date} - {end_date}) (Negative Means Democrat Optimistic)')\n",
    "        filename = f'{model}_{start_date}-{end_date}_signed_error'\n",
    "        fig.write_image(f'figures/{filename}.png')\n",
    "        model_er.to_csv(f'figures/data/{filename}.csv', index=False)\n",
    "        print(f'Wrote {filename} to ./figures')"
   ]
  },
  {
   "cell_type": "code",
   "execution_count": 7,
   "metadata": {},
   "outputs": [],
   "source": [
    "df = pd.DataFrame(model_errors, columns=['model', 'end_date', 'battleground', 'error'])"
   ]
  },
  {
   "cell_type": "code",
   "execution_count": 8,
   "metadata": {},
   "outputs": [
    {
     "name": "stdout",
     "output_type": "stream",
     "text": [
      "Wrote to figures/signed_error_non_battleground_time_series.png\n"
     ]
    }
   ],
   "source": [
    "fig = px.line(df[~df['battleground']], x=\"end_date\", y=\"error\", color=\"model\",\n",
    "              labels={'end_date': 'Prediction Date', 'error': 'Signed Error'},\n",
    "             title='Non-battleground State Signed Error (Negative Means Democrat Optimistic)')\n",
    "# fig.show()\n",
    "filename = f'figures/signed_error_non_battleground_time_series.png'\n",
    "fig.write_image(filename)\n",
    "df[~df['battleground']].to_csv('figures/data/signed_error_non_battleground_time_series.csv', index=False)\n",
    "print(f'Wrote to {filename}')"
   ]
  },
  {
   "cell_type": "code",
   "execution_count": 9,
   "metadata": {},
   "outputs": [
    {
     "name": "stdout",
     "output_type": "stream",
     "text": [
      "Wrote to figures/signed_error_battleground_time_series.png\n"
     ]
    }
   ],
   "source": [
    "fig = px.line(df[df['battleground']], x=\"end_date\", y=\"error\", color=\"model\",\n",
    "              labels={'end_date': 'Prediction Date', 'error': 'Signed Error'},\n",
    "             title='Battleground State Signed Error (Negative Means Democrat Optimistic)')\n",
    "# fig.show()\n",
    "filename = f'figures/signed_error_battleground_time_series.png'\n",
    "df[df['battleground']].to_csv('figures/data/signed_error_battleground_time_series.csv', index=False)\n",
    "fig.write_image(filename)\n",
    "print(f'Wrote to {filename}')"
   ]
  },
  {
   "cell_type": "code",
   "execution_count": null,
   "metadata": {},
   "outputs": [],
   "source": []
  },
  {
   "cell_type": "code",
   "execution_count": null,
   "metadata": {},
   "outputs": [],
   "source": []
  },
  {
   "cell_type": "code",
   "execution_count": 10,
   "metadata": {},
   "outputs": [
    {
     "name": "stdout",
     "output_type": "stream",
     "text": [
      "Wrote to figures/logistic_04_signed_error_time_series.png\n",
      "Wrote to figures/lambda_02_signed_error_time_series.png\n",
      "Wrote to figures/lambda_1_signed_error_time_series.png\n"
     ]
    }
   ],
   "source": [
    "for model in models:\n",
    "    fig = px.line(df[df['model'] == model], x=\"end_date\", y=\"error\", color=\"battleground\",\n",
    "                  labels={'end_date': 'Prediction Date', 'error': 'Signed Error'},\n",
    "                 title=f'{model} Signed Error (Negative Means Democrat Optimistic)')\n",
    "#     fig.show()\n",
    "    filename = f'figures/{model}_signed_error_time_series.png'\n",
    "    fig.write_image(filename)\n",
    "    df[df['model'] == model].to_csv('figures/data/_signed_error_time_series.csv', index=False)\n",
    "    print(f'Wrote to {filename}')"
   ]
  },
  {
   "cell_type": "code",
   "execution_count": null,
   "metadata": {},
   "outputs": [],
   "source": []
  }
 ],
 "metadata": {
  "kernelspec": {
   "display_name": "Python 3",
   "language": "python",
   "name": "python3"
  },
  "language_info": {
   "codemirror_mode": {
    "name": "ipython",
    "version": 3
   },
   "file_extension": ".py",
   "mimetype": "text/x-python",
   "name": "python",
   "nbconvert_exporter": "python",
   "pygments_lexer": "ipython3",
   "version": "3.8.5"
  }
 },
 "nbformat": 4,
 "nbformat_minor": 4
}
