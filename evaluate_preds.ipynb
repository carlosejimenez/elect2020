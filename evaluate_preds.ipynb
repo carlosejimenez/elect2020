{
 "cells": [
  {
   "cell_type": "code",
   "execution_count": 1,
   "metadata": {},
   "outputs": [],
   "source": [
    "import pandas as pd\n",
    "import numpy as np\n",
    "import plotly.express as px\n",
    "from collections import defaultdict\n",
    "from datetime import date, timedelta\n",
    "from sklearn import metrics\n",
    "from utils import get_state_error_df, get_predictions_df"
   ]
  },
  {
   "cell_type": "code",
   "execution_count": 2,
   "metadata": {},
   "outputs": [],
   "source": [
    "labels = pd.read_csv('election_data/final_results_by_state.csv').rename(columns={'dem_vote_share': 'd_prob'})\n",
    "battleground_df = pd.read_csv('label_data/2016_pres_labels_battleground.csv')[['state_po', 'battleground']]"
   ]
  },
  {
   "cell_type": "code",
   "execution_count": 3,
   "metadata": {},
   "outputs": [],
   "source": [
    "d_probs = pd.read_csv('poll_data/all_pres_polls_d_probs.csv')"
   ]
  },
  {
   "cell_type": "code",
   "execution_count": 119,
   "metadata": {},
   "outputs": [],
   "source": [
    "start_date = '2020-05-01'\n",
    "end_dates = list(map(lambda day: str((date(2020, 11, 3) - timedelta(day))), [3, 50, 100]))"
   ]
  },
  {
   "cell_type": "code",
   "execution_count": 124,
   "metadata": {},
   "outputs": [],
   "source": [
    "models = {\n",
    "    'ewma_03_lw': {'alpha': 0.3, 'logistic': True},\n",
    "    'ewma_03': {'alpha': 0.3, 'logistic': False},\n",
    "    'ewma_01_lw': {'alpha': 0.1, 'logistic': True},\n",
    "    'ewma_01': {'alpha': 0.1, 'logistic': False},\n",
    "    'ewma_1': {'alpha': 1, 'logistic': False},\n",
    "}"
   ]
  },
  {
   "cell_type": "code",
   "execution_count": 125,
   "metadata": {},
   "outputs": [
    {
     "name": "stdout",
     "output_type": "stream",
     "text": [
      "Wrote ewma_03_lw_2020-05-01-2020-10-31_signed_error to ./figures\n",
      "Wrote ewma_03_lw_2020-05-01-2020-09-14_signed_error to ./figures\n",
      "Wrote ewma_03_lw_2020-05-01-2020-07-26_signed_error to ./figures\n",
      "Wrote ewma_03_2020-05-01-2020-10-31_signed_error to ./figures\n",
      "Wrote ewma_03_2020-05-01-2020-09-14_signed_error to ./figures\n",
      "Wrote ewma_03_2020-05-01-2020-07-26_signed_error to ./figures\n",
      "Wrote ewma_01_lw_2020-05-01-2020-10-31_signed_error to ./figures\n",
      "Wrote ewma_01_lw_2020-05-01-2020-09-14_signed_error to ./figures\n",
      "Wrote ewma_01_lw_2020-05-01-2020-07-26_signed_error to ./figures\n",
      "Wrote ewma_01_2020-05-01-2020-10-31_signed_error to ./figures\n",
      "Wrote ewma_01_2020-05-01-2020-09-14_signed_error to ./figures\n",
      "Wrote ewma_01_2020-05-01-2020-07-26_signed_error to ./figures\n",
      "Wrote ewma_1_2020-05-01-2020-10-31_signed_error to ./figures\n",
      "Wrote ewma_1_2020-05-01-2020-09-14_signed_error to ./figures\n",
      "Wrote ewma_1_2020-05-01-2020-07-26_signed_error to ./figures\n"
     ]
    }
   ],
   "source": [
    "model_errors = list()\n",
    "for model in models:\n",
    "    for end_date in end_dates:\n",
    "        preds = get_predictions_df(d_probs, **models[model], start_date=start_date, end_date=end_date)\n",
    "        model_er = pd.merge(get_state_error_df(labels, preds), battleground_df).sort_values(by=['battleground', 'state_po'])\n",
    "        battleground_err = np.mean(model_er[model_er['battleground']]['error'])\n",
    "        non_battleground_err = np.mean(model_er[~model_er['battleground']]['error'])\n",
    "        model_errors.append((model, end_date, True, battleground_err))\n",
    "        model_errors.append((model, end_date, False, non_battleground_err))\n",
    "        fig = px.bar(model_er, x='state_po', y='error', color='battleground',\n",
    "                     labels={'error': 'Error', 'state_po': 'State'}, \n",
    "                     title=f'Model {model} Signed Error ({start_date} - {end_date}) (Negative Means Democrat Optimistic)')\n",
    "        filename = f'{model}_{start_date}-{end_date}_signed_error'\n",
    "        fig.write_image(f'figures/{filename}.png')\n",
    "        model_er.to_csv(f'figures/data/{filename}.csv', index=False)\n",
    "        open(f'figures/tables/{filename}.tex', 'w+').write(model_er.to_latex(index=False, caption=f'Model {model} Signed Error ({start_date} - {end_date})\\n(Negative Means Democrat Optimistic)'))\n",
    "        print(f'Wrote {filename} to ./figures')"
   ]
  },
  {
   "cell_type": "code",
   "execution_count": 126,
   "metadata": {},
   "outputs": [],
   "source": [
    "df = pd.DataFrame(model_errors, columns=['model', 'end_date', 'battleground', 'error'])"
   ]
  },
  {
   "cell_type": "code",
   "execution_count": 127,
   "metadata": {},
   "outputs": [
    {
     "name": "stdout",
     "output_type": "stream",
     "text": [
      "Wrote to signed_error_non_battleground_time_series\n"
     ]
    }
   ],
   "source": [
    "nb_df = df[~df['battleground']]\n",
    "fig = px.line(nb_df, x=\"end_date\", y=\"error\", color=\"model\",\n",
    "              labels={'end_date': 'Prediction Date', 'error': 'Signed Error'},\n",
    "             title='Non-battleground State Signed Error\\n(Negative Means Democrat Optimistic)')\n",
    "# fig.show()\n",
    "filename = f'signed_error_non_battleground_time_series'\n",
    "fig.write_image(f'figures/{filename}.png')\n",
    "open(f'figures/tables/{filename}.tex', 'w+').write(nb_df.to_latex(index=False, caption=f'Non-battleground State Signed Error\\n(Negative Means Democrat Optimistic)'))\n",
    "print(f'Wrote to {filename}')"
   ]
  },
  {
   "cell_type": "code",
   "execution_count": 128,
   "metadata": {},
   "outputs": [
    {
     "name": "stdout",
     "output_type": "stream",
     "text": [
      "Wrote to signed_error_battleground_time_series\n"
     ]
    }
   ],
   "source": [
    "b_df = df[df['battleground']]\n",
    "fig = px.line(b_df, x=\"end_date\", y=\"error\", color=\"model\",\n",
    "              labels={'end_date': 'Prediction Date', 'error': 'Signed Error'},\n",
    "             title='Battleground State Signed Error\\n(Negative Means Democrat Optimistic)')\n",
    "# fig.show()\n",
    "filename = f'signed_error_battleground_time_series'\n",
    "fig.write_image(f'figures/{filename}.png')\n",
    "open(f'figures/tables/{filename}.tex', 'w+').write(b_df.to_latex(index=False, caption=f'Battleground State Signed Error\\n(Negative Means Democrat Optimistic)'))\n",
    "b_df.to_csv(f'figures/data/{filename}.csv', index=False)\n",
    "print(f'Wrote to {filename}')"
   ]
  },
  {
   "cell_type": "code",
   "execution_count": null,
   "metadata": {},
   "outputs": [],
   "source": []
  },
  {
   "cell_type": "code",
   "execution_count": null,
   "metadata": {},
   "outputs": [],
   "source": []
  },
  {
   "cell_type": "code",
   "execution_count": 129,
   "metadata": {},
   "outputs": [
    {
     "name": "stdout",
     "output_type": "stream",
     "text": [
      "Wrote to ewma_03_lw_signed_error_time_series\n",
      "Wrote to ewma_03_signed_error_time_series\n",
      "Wrote to ewma_01_lw_signed_error_time_series\n",
      "Wrote to ewma_01_signed_error_time_series\n",
      "Wrote to ewma_1_signed_error_time_series\n"
     ]
    }
   ],
   "source": [
    "for model in models:\n",
    "    model_df = df[df['model'] == model]\n",
    "    fig = px.line(model_df, x=\"end_date\", y=\"error\", color=\"battleground\",\n",
    "                  labels={'end_date': 'Prediction Date', 'error': 'Signed Error'},\n",
    "                 title=f'{model} Signed Error\\n(Negative Means Democrat Optimistic)')\n",
    "#     fig.show()\n",
    "    filename = f'{model}_signed_error_time_series'\n",
    "    fig.write_image('figures/' + filename + '.png')\n",
    "    model_df.to_csv('figures/data/' + filename + '.csv', index=False)\n",
    "    open(f'figures/tables/{filename}.tex', 'w+').write(model_df.to_latex(index=False, caption=f'{model} Signed Error\\n(Negative Means Democrat Optimistic)'))\n",
    "    print(f'Wrote to {filename}')"
   ]
  },
  {
   "cell_type": "code",
   "execution_count": null,
   "metadata": {},
   "outputs": [],
   "source": []
  },
  {
   "cell_type": "code",
   "execution_count": 140,
   "metadata": {},
   "outputs": [],
   "source": [
    "model_to_graph = ['ewma_03_lw', 'ewma_03', 'ewma_01_lw', 'ewma_01', 'ewma_1']\n",
    "err_df = pd.DataFrame(model_errors, columns=['model', 'end_date', 'battleground', 'mean_signed_error'])\n",
    "err_df = err_df[np.isin(err_df['model'], model_to_graph)]\n",
    "err_df = err_df[err_df['end_date'] == '2020-10-31'].reset_index(drop=True)[['model', 'battleground', 'mean_signed_error']]"
   ]
  },
  {
   "cell_type": "code",
   "execution_count": 145,
   "metadata": {},
   "outputs": [
    {
     "name": "stdout",
     "output_type": "stream",
     "text": [
      "Wrote to ewma_03_lw_ewma_03_ewma_01_lw_ewma_01_ewma_1_mean_signed_error\n"
     ]
    }
   ],
   "source": [
    "fig = px.bar(err_df, x=\"model\", y=\"mean_signed_error\", color=\"battleground\",\n",
    "              labels={'model': 'Model', 'mean_signed_error': 'Mean Signed Error'},\n",
    "             title=f'Mean Signed Error\\n(Negative Means Democrat Optimistic)')\n",
    "# fig.show()\n",
    "filename = f'{\"_\".join(model_to_graph)}_mean_signed_error'\n",
    "fig.write_image('figures/' + filename + '.png')\n",
    "model_df.to_csv('figures/data/' + filename + '.csv', index=False)\n",
    "open(f'figures/tables/{filename}.tex', 'w+').write(model_df.to_latex(index=False, caption=f'Mean Signed Error\\n(Negative Means Democrat Optimistic)'))\n",
    "print(f'Wrote to {filename}')"
   ]
  },
  {
   "cell_type": "code",
   "execution_count": null,
   "metadata": {},
   "outputs": [],
   "source": []
  }
 ],
 "metadata": {
  "kernelspec": {
   "display_name": "Python 3",
   "language": "python",
   "name": "python3"
  },
  "language_info": {
   "codemirror_mode": {
    "name": "ipython",
    "version": 3
   },
   "file_extension": ".py",
   "mimetype": "text/x-python",
   "name": "python",
   "nbconvert_exporter": "python",
   "pygments_lexer": "ipython3",
   "version": "3.8.5"
  }
 },
 "nbformat": 4,
 "nbformat_minor": 4
}
