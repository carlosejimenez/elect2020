{
 "cells": [
  {
   "cell_type": "code",
   "execution_count": 9,
   "metadata": {},
   "outputs": [],
   "source": [
    "import json\n",
    "import pandas as pd\n",
    "from us import states\n",
    "from collections import defaultdict\n",
    "import numpy as np\n",
    "from fredapi import Fred\n",
    "keys = json.load(open('api_keys.json'))"
   ]
  },
  {
   "cell_type": "code",
   "execution_count": 2,
   "metadata": {},
   "outputs": [],
   "source": [
    "fred = Fred(api_key=keys['fred'])"
   ]
  },
  {
   "cell_type": "code",
   "execution_count": 40,
   "metadata": {},
   "outputs": [],
   "source": [
    "def get_state_unemployment_rate(state):\n",
    "    data_str = f'{state.abbr}UR'\n",
    "    print(data_str)\n",
    "    df = pd.DataFrame(fred.get_series(data_str)).resample('Y').mean()\n",
    "    years = list(map(int, df.index.year))\n",
    "    rates = list(df[0].values)\n",
    "    return list(zip(years, rates))"
   ]
  },
  {
   "cell_type": "code",
   "execution_count": 41,
   "metadata": {},
   "outputs": [
    {
     "name": "stdout",
     "output_type": "stream",
     "text": [
      "ALUR\n",
      "AKUR\n",
      "AZUR\n",
      "ARUR\n",
      "CAUR\n",
      "COUR\n",
      "CTUR\n",
      "DEUR\n",
      "FLUR\n",
      "GAUR\n",
      "HIUR\n",
      "IDUR\n",
      "ILUR\n",
      "INUR\n",
      "IAUR\n",
      "KSUR\n",
      "KYUR\n",
      "LAUR\n",
      "MEUR\n",
      "MDUR\n",
      "MAUR\n",
      "MIUR\n",
      "MNUR\n",
      "MSUR\n",
      "MOUR\n",
      "MTUR\n",
      "NEUR\n",
      "NVUR\n",
      "NHUR\n",
      "NJUR\n",
      "NMUR\n",
      "NYUR\n",
      "NCUR\n",
      "NDUR\n",
      "OHUR\n",
      "OKUR\n",
      "ORUR\n",
      "PAUR\n",
      "RIUR\n",
      "SCUR\n",
      "SDUR\n",
      "TNUR\n",
      "TXUR\n",
      "UTUR\n",
      "VTUR\n",
      "VAUR\n",
      "WAUR\n",
      "WVUR\n",
      "WIUR\n",
      "WYUR\n"
     ]
    }
   ],
   "source": [
    "state_unemployment_rates = []\n",
    "for state in states.STATES:\n",
    "    for (year, rate) in get_state_unemployment_rate(state):\n",
    "        state_unemployment_rates.append([state.abbr, year, rate])"
   ]
  },
  {
   "cell_type": "code",
   "execution_count": 42,
   "metadata": {},
   "outputs": [],
   "source": [
    "state_unemployment_rates_df = pd.DataFrame(state_unemployment_rates, columns=['state_po', 'year', 'unemployment_rate'])"
   ]
  },
  {
   "cell_type": "code",
   "execution_count": 45,
   "metadata": {},
   "outputs": [],
   "source": [
    "state_unemployment_rates_df.to_csv(open('./pop_data/1976-2020-state-unemployment-rates.csv', 'w+'))"
   ]
  },
  {
   "cell_type": "code",
   "execution_count": null,
   "metadata": {},
   "outputs": [],
   "source": []
  }
 ],
 "metadata": {
  "kernelspec": {
   "display_name": "Python 3",
   "language": "python",
   "name": "python3"
  },
  "language_info": {
   "codemirror_mode": {
    "name": "ipython",
    "version": 3
   },
   "file_extension": ".py",
   "mimetype": "text/x-python",
   "name": "python",
   "nbconvert_exporter": "python",
   "pygments_lexer": "ipython3",
   "version": "3.8.5"
  }
 },
 "nbformat": 4,
 "nbformat_minor": 4
}
