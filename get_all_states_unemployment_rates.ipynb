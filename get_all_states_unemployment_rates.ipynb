{
 "cells": [
  {
   "cell_type": "code",
   "execution_count": 1,
   "metadata": {},
   "outputs": [],
   "source": [
    "import json\n",
    "import pandas as pd\n",
    "from us import states\n",
    "from collections import defaultdict\n",
    "import numpy as np\n",
    "from fredapi import Fred\n",
    "keys = json.load(open('api_keys.json'))"
   ]
  },
  {
   "cell_type": "code",
   "execution_count": 2,
   "metadata": {},
   "outputs": [],
   "source": [
    "fred = Fred(api_key=keys['fred'])"
   ]
  },
  {
   "cell_type": "code",
   "execution_count": 3,
   "metadata": {},
   "outputs": [],
   "source": [
    "def get_data(state):\n",
    "    data_str = f'MEHOINUS{state.abbr}A672N'\n",
    "    print(data_str)\n",
    "    df = pd.DataFrame(fred.get_series(data_str)).resample('Y').mean()\n",
    "    years = list(map(int, df.index.year))\n",
    "    rates = list(df[0].values)\n",
    "    return list(zip(years, rates))"
   ]
  },
  {
   "cell_type": "code",
   "execution_count": 4,
   "metadata": {},
   "outputs": [
    {
     "name": "stdout",
     "output_type": "stream",
     "text": [
      "MEHOINUSALA672N\n",
      "MEHOINUSAKA672N\n",
      "MEHOINUSAZA672N\n",
      "MEHOINUSARA672N\n",
      "MEHOINUSCAA672N\n",
      "MEHOINUSCOA672N\n",
      "MEHOINUSCTA672N\n",
      "MEHOINUSDEA672N\n",
      "MEHOINUSFLA672N\n",
      "MEHOINUSGAA672N\n",
      "MEHOINUSHIA672N\n",
      "MEHOINUSIDA672N\n",
      "MEHOINUSILA672N\n",
      "MEHOINUSINA672N\n",
      "MEHOINUSIAA672N\n",
      "MEHOINUSKSA672N\n",
      "MEHOINUSKYA672N\n",
      "MEHOINUSLAA672N\n",
      "MEHOINUSMEA672N\n",
      "MEHOINUSMDA672N\n",
      "MEHOINUSMAA672N\n",
      "MEHOINUSMIA672N\n",
      "MEHOINUSMNA672N\n",
      "MEHOINUSMSA672N\n",
      "MEHOINUSMOA672N\n",
      "MEHOINUSMTA672N\n",
      "MEHOINUSNEA672N\n",
      "MEHOINUSNVA672N\n",
      "MEHOINUSNHA672N\n",
      "MEHOINUSNJA672N\n",
      "MEHOINUSNMA672N\n",
      "MEHOINUSNYA672N\n",
      "MEHOINUSNCA672N\n",
      "MEHOINUSNDA672N\n",
      "MEHOINUSOHA672N\n",
      "MEHOINUSOKA672N\n",
      "MEHOINUSORA672N\n",
      "MEHOINUSPAA672N\n",
      "MEHOINUSRIA672N\n",
      "MEHOINUSSCA672N\n",
      "MEHOINUSSDA672N\n",
      "MEHOINUSTNA672N\n",
      "MEHOINUSTXA672N\n",
      "MEHOINUSUTA672N\n",
      "MEHOINUSVTA672N\n",
      "MEHOINUSVAA672N\n",
      "MEHOINUSWAA672N\n",
      "MEHOINUSWVA672N\n",
      "MEHOINUSWIA672N\n",
      "MEHOINUSWYA672N\n"
     ]
    }
   ],
   "source": [
    "all_states = []\n",
    "for state in states.STATES:\n",
    "    for (year, rate) in get_data(state):\n",
    "        all_states.append([state.abbr, year, rate])"
   ]
  },
  {
   "cell_type": "code",
   "execution_count": 6,
   "metadata": {},
   "outputs": [],
   "source": [
    "var_name = 'median_household_income'"
   ]
  },
  {
   "cell_type": "code",
   "execution_count": 7,
   "metadata": {},
   "outputs": [],
   "source": [
    "all_states_df = pd.DataFrame(all_states, columns=['state_po', 'year', var_name])"
   ]
  },
  {
   "cell_type": "code",
   "execution_count": 12,
   "metadata": {},
   "outputs": [],
   "source": [
    "min_year, max_year = all_states_df['year'].min(), all_states_df['year'].max()"
   ]
  },
  {
   "cell_type": "code",
   "execution_count": 14,
   "metadata": {},
   "outputs": [],
   "source": [
    "all_states_df.to_csv(open(f'./pop_data/{min_year}-{max_year}-{\"-\".join(var_name.split(\"_\"))}.csv', 'w+'))"
   ]
  },
  {
   "cell_type": "code",
   "execution_count": null,
   "metadata": {},
   "outputs": [],
   "source": []
  }
 ],
 "metadata": {
  "kernelspec": {
   "display_name": "Python 3",
   "language": "python",
   "name": "python3"
  },
  "language_info": {
   "codemirror_mode": {
    "name": "ipython",
    "version": 3
   },
   "file_extension": ".py",
   "mimetype": "text/x-python",
   "name": "python",
   "nbconvert_exporter": "python",
   "pygments_lexer": "ipython3",
   "version": "3.8.5"
  }
 },
 "nbformat": 4,
 "nbformat_minor": 4
}
